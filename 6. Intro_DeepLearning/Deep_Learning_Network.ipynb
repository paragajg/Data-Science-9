{
 "cells": [
  {
   "cell_type": "markdown",
   "metadata": {},
   "source": [
    "### First Multiple Layered Perceptron (aka. Deep Learning Model)"
   ]
  },
  {
   "cell_type": "markdown",
   "metadata": {},
   "source": [
    "<img src=\"images/single_neuron.png\" alt=\"single_neuron\" style=\"width:60%\">"
   ]
  },
  {
   "cell_type": "markdown",
   "metadata": {},
   "source": [
    "<img src=\"images/neural_network.png\" alt=\"nn\" style=\"width:90%\">"
   ]
  },
  {
   "cell_type": "markdown",
   "metadata": {},
   "source": [
    "<img src=\"images/deepnetwork.png\" alt=\"dn\" style=\"width:90%\">"
   ]
  },
  {
   "cell_type": "markdown",
   "metadata": {},
   "source": [
    "<img src=\"images/backpropa.png\" alt=\"bp\" style=\"width:60%\">"
   ]
  },
  {
   "cell_type": "markdown",
   "metadata": {},
   "source": [
    "### Human Brain Neuron System\n",
    "\n",
    "\"<table><tr><td><img src=\"images/brain.jpeg\" alt=\"brain\" style=\"width:100%\"></td><td><img src=\"images/neurons.jpg\" alt=\"nerons\" style=\"width:50%\"></td></tr></table>\""
   ]
  },
  {
   "cell_type": "code",
   "execution_count": null,
   "metadata": {},
   "outputs": [],
   "source": [
    "# !pip install tensorflow -U"
   ]
  },
  {
   "cell_type": "code",
   "execution_count": null,
   "metadata": {},
   "outputs": [],
   "source": [
    "# import tensorflow as tf"
   ]
  },
  {
   "cell_type": "code",
   "execution_count": 1,
   "metadata": {},
   "outputs": [],
   "source": [
    "# Data manipulation libraries\n",
    "import pandas as pd\n",
    "import numpy as np\n",
    "import tensorflow as tf\n",
    "\n",
    "##### Scikit Learn modules needed for Logistic Regression\n",
    "from sklearn.model_selection import train_test_split\n",
    "from sklearn.metrics import confusion_matrix\n",
    "from sklearn.preprocessing import LabelEncoder,MinMaxScaler , StandardScaler, OneHotEncoder\n",
    "from sklearn.impute import SimpleImputer\n",
    "from sklearn.model_selection import GridSearchCV\n",
    "from sklearn.pipeline import Pipeline\n",
    "from sklearn.compose import ColumnTransformer\n",
    "\n",
    "# Create your first MLP in Keras\n",
    "# import tf.keras.Sequential as Sequential\n",
    "# from tf.keras.layers import Dense"
   ]
  },
  {
   "cell_type": "code",
   "execution_count": 2,
   "metadata": {},
   "outputs": [
    {
     "data": {
      "text/html": [
       "<div>\n",
       "<style scoped>\n",
       "    .dataframe tbody tr th:only-of-type {\n",
       "        vertical-align: middle;\n",
       "    }\n",
       "\n",
       "    .dataframe tbody tr th {\n",
       "        vertical-align: top;\n",
       "    }\n",
       "\n",
       "    .dataframe thead th {\n",
       "        text-align: right;\n",
       "    }\n",
       "</style>\n",
       "<table border=\"1\" class=\"dataframe\">\n",
       "  <thead>\n",
       "    <tr style=\"text-align: right;\">\n",
       "      <th></th>\n",
       "      <th>PassengerId</th>\n",
       "      <th>Survived</th>\n",
       "      <th>Pclass</th>\n",
       "      <th>Name</th>\n",
       "      <th>Sex</th>\n",
       "      <th>Age</th>\n",
       "      <th>SibSp</th>\n",
       "      <th>Parch</th>\n",
       "      <th>Ticket</th>\n",
       "      <th>Fare</th>\n",
       "      <th>Cabin</th>\n",
       "      <th>Embarked</th>\n",
       "    </tr>\n",
       "  </thead>\n",
       "  <tbody>\n",
       "    <tr>\n",
       "      <th>0</th>\n",
       "      <td>1</td>\n",
       "      <td>0</td>\n",
       "      <td>3</td>\n",
       "      <td>Braund, Mr. Owen Harris</td>\n",
       "      <td>male</td>\n",
       "      <td>22.0</td>\n",
       "      <td>1</td>\n",
       "      <td>0</td>\n",
       "      <td>A/5 21171</td>\n",
       "      <td>7.2500</td>\n",
       "      <td>NaN</td>\n",
       "      <td>S</td>\n",
       "    </tr>\n",
       "    <tr>\n",
       "      <th>1</th>\n",
       "      <td>2</td>\n",
       "      <td>1</td>\n",
       "      <td>1</td>\n",
       "      <td>Cumings, Mrs. John Bradley (Florence Briggs Th...</td>\n",
       "      <td>female</td>\n",
       "      <td>38.0</td>\n",
       "      <td>1</td>\n",
       "      <td>0</td>\n",
       "      <td>PC 17599</td>\n",
       "      <td>71.2833</td>\n",
       "      <td>C85</td>\n",
       "      <td>C</td>\n",
       "    </tr>\n",
       "    <tr>\n",
       "      <th>2</th>\n",
       "      <td>3</td>\n",
       "      <td>1</td>\n",
       "      <td>3</td>\n",
       "      <td>Heikkinen, Miss. Laina</td>\n",
       "      <td>female</td>\n",
       "      <td>26.0</td>\n",
       "      <td>0</td>\n",
       "      <td>0</td>\n",
       "      <td>STON/O2. 3101282</td>\n",
       "      <td>7.9250</td>\n",
       "      <td>NaN</td>\n",
       "      <td>S</td>\n",
       "    </tr>\n",
       "    <tr>\n",
       "      <th>3</th>\n",
       "      <td>4</td>\n",
       "      <td>1</td>\n",
       "      <td>1</td>\n",
       "      <td>Futrelle, Mrs. Jacques Heath (Lily May Peel)</td>\n",
       "      <td>female</td>\n",
       "      <td>35.0</td>\n",
       "      <td>1</td>\n",
       "      <td>0</td>\n",
       "      <td>113803</td>\n",
       "      <td>53.1000</td>\n",
       "      <td>C123</td>\n",
       "      <td>S</td>\n",
       "    </tr>\n",
       "    <tr>\n",
       "      <th>4</th>\n",
       "      <td>5</td>\n",
       "      <td>0</td>\n",
       "      <td>3</td>\n",
       "      <td>Allen, Mr. William Henry</td>\n",
       "      <td>male</td>\n",
       "      <td>35.0</td>\n",
       "      <td>0</td>\n",
       "      <td>0</td>\n",
       "      <td>373450</td>\n",
       "      <td>8.0500</td>\n",
       "      <td>NaN</td>\n",
       "      <td>S</td>\n",
       "    </tr>\n",
       "  </tbody>\n",
       "</table>\n",
       "</div>"
      ],
      "text/plain": [
       "   PassengerId  Survived  Pclass  \\\n",
       "0            1         0       3   \n",
       "1            2         1       1   \n",
       "2            3         1       3   \n",
       "3            4         1       1   \n",
       "4            5         0       3   \n",
       "\n",
       "                                                Name     Sex   Age  SibSp  \\\n",
       "0                            Braund, Mr. Owen Harris    male  22.0      1   \n",
       "1  Cumings, Mrs. John Bradley (Florence Briggs Th...  female  38.0      1   \n",
       "2                             Heikkinen, Miss. Laina  female  26.0      0   \n",
       "3       Futrelle, Mrs. Jacques Heath (Lily May Peel)  female  35.0      1   \n",
       "4                           Allen, Mr. William Henry    male  35.0      0   \n",
       "\n",
       "   Parch            Ticket     Fare Cabin Embarked  \n",
       "0      0         A/5 21171   7.2500   NaN        S  \n",
       "1      0          PC 17599  71.2833   C85        C  \n",
       "2      0  STON/O2. 3101282   7.9250   NaN        S  \n",
       "3      0            113803  53.1000  C123        S  \n",
       "4      0            373450   8.0500   NaN        S  "
      ]
     },
     "execution_count": 2,
     "metadata": {},
     "output_type": "execute_result"
    }
   ],
   "source": [
    "df = pd.read_csv(\"train.csv\")\n",
    "df.head()"
   ]
  },
  {
   "cell_type": "code",
   "execution_count": 3,
   "metadata": {},
   "outputs": [
    {
     "data": {
      "text/plain": [
       "PassengerId      0\n",
       "Survived         0\n",
       "Pclass           0\n",
       "Name             0\n",
       "Sex              0\n",
       "Age            177\n",
       "SibSp            0\n",
       "Parch            0\n",
       "Ticket           0\n",
       "Fare             0\n",
       "Cabin          687\n",
       "Embarked         2\n",
       "dtype: int64"
      ]
     },
     "execution_count": 3,
     "metadata": {},
     "output_type": "execute_result"
    }
   ],
   "source": [
    "df.isna().sum()"
   ]
  },
  {
   "cell_type": "code",
   "execution_count": 4,
   "metadata": {},
   "outputs": [],
   "source": [
    "def prepare_inputData(df):\n",
    "    # We create the preprocessing pipelines for both numeric and categorical data.\n",
    "    numeric_features = ['Age', 'Fare']\n",
    "    numeric_transformer = Pipeline(steps=[\n",
    "        ('imputer', SimpleImputer(strategy='mean')),\n",
    "        ('scaler', StandardScaler())])\n",
    "\n",
    "    categorical_features = ['Embarked', 'Sex', 'Pclass','Parch']\n",
    "    categorical_transformer = Pipeline(steps=[\n",
    "        ('imputer', SimpleImputer(strategy='constant', fill_value='missing')),\n",
    "        ('onehot', OneHotEncoder(handle_unknown='ignore'))])\n",
    "\n",
    "    preprocessor = ColumnTransformer(\n",
    "        transformers=[\n",
    "            ('num', numeric_transformer, numeric_features),\n",
    "            ('cat', categorical_transformer, categorical_features)])\n",
    "    \n",
    "    # preprocess the input variable\n",
    "    X = preprocessor.fit_transform(df[['Fare','Pclass', 'Name', 'Sex', 'Age','Embarked','Parch']])\n",
    "    \n",
    "    #y_oneHot = OneHotEncoder()\n",
    "    #y = y_oneHot.fit_transform(df[\"Survived\"])\n",
    "    \n",
    "    # split data for training and testing\n",
    "    X_train, X_test, y_train, y_test = train_test_split(X,df[\"Survived\"] ,test_size=0.2,random_state =42)\n",
    "    \n",
    "    return X_train, X_test, y_train, y_test"
   ]
  },
  {
   "cell_type": "code",
   "execution_count": 5,
   "metadata": {},
   "outputs": [],
   "source": [
    "def train_model(X_train, X_test, y_train, y_test):\n",
    "    # create model\n",
    "    model = tf.keras.Sequential()\n",
    "    model.add(tf.keras.layers.Dense(24, input_dim=X_train.shape[1], activation='relu'))\n",
    "    model.add(tf.keras.layers.Dense(16, activation='relu'))\n",
    "    model.add(tf.keras.layers.Dense(8, activation='relu'))\n",
    "    model.add(tf.keras.layers.Dense(4, activation='relu'))\n",
    "    model.add(tf.keras.layers.Dense(1, activation='sigmoid'))\n",
    "    #print summary of model architecture\n",
    "    model.summary()\n",
    "    # Compile model\n",
    "    model.compile(loss='binary_crossentropy', optimizer='adam', metrics=['accuracy'])\n",
    "    # Fit the model\n",
    "    model.fit(X_train, y_train, epochs=50, batch_size=10)\n",
    "    # evaluate the model\n",
    "    scores = model.evaluate(X_test, y_test)\n",
    "    print(\"\\n%s: %.2f%%\" % (model.metrics_names[1], scores[1]*100))\n",
    "    \n",
    "    return model"
   ]
  },
  {
   "cell_type": "code",
   "execution_count": 6,
   "metadata": {},
   "outputs": [
    {
     "name": "stdout",
     "output_type": "stream",
     "text": [
      "Model: \"sequential\"\n",
      "_________________________________________________________________\n",
      "Layer (type)                 Output Shape              Param #   \n",
      "=================================================================\n",
      "dense (Dense)                (None, 24)                456       \n",
      "_________________________________________________________________\n",
      "dense_1 (Dense)              (None, 16)                400       \n",
      "_________________________________________________________________\n",
      "dense_2 (Dense)              (None, 8)                 136       \n",
      "_________________________________________________________________\n",
      "dense_3 (Dense)              (None, 4)                 36        \n",
      "_________________________________________________________________\n",
      "dense_4 (Dense)              (None, 1)                 5         \n",
      "=================================================================\n",
      "Total params: 1,033\n",
      "Trainable params: 1,033\n",
      "Non-trainable params: 0\n",
      "_________________________________________________________________\n",
      "Epoch 1/50\n",
      "72/72 [==============================] - 1s 2ms/step - loss: 0.6944 - accuracy: 0.5309\n",
      "Epoch 2/50\n",
      "72/72 [==============================] - 0s 3ms/step - loss: 0.6506 - accuracy: 0.7556\n",
      "Epoch 3/50\n",
      "72/72 [==============================] - 0s 3ms/step - loss: 0.6182 - accuracy: 0.7683\n",
      "Epoch 4/50\n",
      "72/72 [==============================] - 0s 5ms/step - loss: 0.5852 - accuracy: 0.7851\n",
      "Epoch 5/50\n",
      "72/72 [==============================] - 0s 4ms/step - loss: 0.5577 - accuracy: 0.7963\n",
      "Epoch 6/50\n",
      "72/72 [==============================] - 0s 3ms/step - loss: 0.5378 - accuracy: 0.8160\n",
      "Epoch 7/50\n",
      "72/72 [==============================] - 0s 4ms/step - loss: 0.5218 - accuracy: 0.8188\n",
      "Epoch 8/50\n",
      "72/72 [==============================] - 0s 3ms/step - loss: 0.5097 - accuracy: 0.8272\n",
      "Epoch 9/50\n",
      "72/72 [==============================] - 0s 2ms/step - loss: 0.5003 - accuracy: 0.8301\n",
      "Epoch 10/50\n",
      "72/72 [==============================] - 0s 4ms/step - loss: 0.4961 - accuracy: 0.8230\n",
      "Epoch 11/50\n",
      "72/72 [==============================] - 0s 3ms/step - loss: 0.4867 - accuracy: 0.8287\n",
      "Epoch 12/50\n",
      "72/72 [==============================] - 0s 3ms/step - loss: 0.4786 - accuracy: 0.8315\n",
      "Epoch 13/50\n",
      "72/72 [==============================] - 0s 2ms/step - loss: 0.4736 - accuracy: 0.8272\n",
      "Epoch 14/50\n",
      "72/72 [==============================] - 0s 3ms/step - loss: 0.4668 - accuracy: 0.8329\n",
      "Epoch 15/50\n",
      "72/72 [==============================] - 0s 3ms/step - loss: 0.4627 - accuracy: 0.8343\n",
      "Epoch 16/50\n",
      "72/72 [==============================] - 0s 2ms/step - loss: 0.4567 - accuracy: 0.8343\n",
      "Epoch 17/50\n",
      "72/72 [==============================] - 0s 3ms/step - loss: 0.4526 - accuracy: 0.8343\n",
      "Epoch 18/50\n",
      "72/72 [==============================] - 0s 3ms/step - loss: 0.4481 - accuracy: 0.8329\n",
      "Epoch 19/50\n",
      "72/72 [==============================] - 0s 3ms/step - loss: 0.4435 - accuracy: 0.8301\n",
      "Epoch 20/50\n",
      "72/72 [==============================] - 0s 3ms/step - loss: 0.4392 - accuracy: 0.8371\n",
      "Epoch 21/50\n",
      "72/72 [==============================] - 0s 4ms/step - loss: 0.4381 - accuracy: 0.8315\n",
      "Epoch 22/50\n",
      "72/72 [==============================] - 0s 3ms/step - loss: 0.4343 - accuracy: 0.8329\n",
      "Epoch 23/50\n",
      "72/72 [==============================] - 0s 3ms/step - loss: 0.4300 - accuracy: 0.8371\n",
      "Epoch 24/50\n",
      "72/72 [==============================] - 0s 3ms/step - loss: 0.4291 - accuracy: 0.8343\n",
      "Epoch 25/50\n",
      "72/72 [==============================] - 0s 4ms/step - loss: 0.4240 - accuracy: 0.8357\n",
      "Epoch 26/50\n",
      "72/72 [==============================] - 0s 3ms/step - loss: 0.4253 - accuracy: 0.8329\n",
      "Epoch 27/50\n",
      "72/72 [==============================] - 0s 2ms/step - loss: 0.4198 - accuracy: 0.8357\n",
      "Epoch 28/50\n",
      "72/72 [==============================] - 0s 3ms/step - loss: 0.4171 - accuracy: 0.8371\n",
      "Epoch 29/50\n",
      "72/72 [==============================] - 0s 3ms/step - loss: 0.4142 - accuracy: 0.8315\n",
      "Epoch 30/50\n",
      "72/72 [==============================] - 0s 4ms/step - loss: 0.4121 - accuracy: 0.8343\n",
      "Epoch 31/50\n",
      "72/72 [==============================] - 0s 2ms/step - loss: 0.4104 - accuracy: 0.8343\n",
      "Epoch 32/50\n",
      "72/72 [==============================] - 0s 3ms/step - loss: 0.4074 - accuracy: 0.8343\n",
      "Epoch 33/50\n",
      "72/72 [==============================] - 0s 3ms/step - loss: 0.4097 - accuracy: 0.8315\n",
      "Epoch 34/50\n",
      "72/72 [==============================] - 0s 2ms/step - loss: 0.4043 - accuracy: 0.8357\n",
      "Epoch 35/50\n",
      "72/72 [==============================] - 0s 3ms/step - loss: 0.4019 - accuracy: 0.8357\n",
      "Epoch 36/50\n",
      "72/72 [==============================] - 0s 3ms/step - loss: 0.4007 - accuracy: 0.8329\n",
      "Epoch 37/50\n",
      "72/72 [==============================] - 0s 3ms/step - loss: 0.3988 - accuracy: 0.8413\n",
      "Epoch 38/50\n",
      "72/72 [==============================] - 0s 3ms/step - loss: 0.3994 - accuracy: 0.8343\n",
      "Epoch 39/50\n",
      "72/72 [==============================] - 0s 4ms/step - loss: 0.3969 - accuracy: 0.8385\n",
      "Epoch 40/50\n",
      "72/72 [==============================] - 0s 5ms/step - loss: 0.3982 - accuracy: 0.8399\n",
      "Epoch 41/50\n",
      "72/72 [==============================] - 0s 3ms/step - loss: 0.3942 - accuracy: 0.8441\n",
      "Epoch 42/50\n",
      "72/72 [==============================] - 0s 3ms/step - loss: 0.3917 - accuracy: 0.8427\n",
      "Epoch 43/50\n",
      "72/72 [==============================] - 0s 3ms/step - loss: 0.3929 - accuracy: 0.8427\n",
      "Epoch 44/50\n",
      "72/72 [==============================] - 0s 3ms/step - loss: 0.3916 - accuracy: 0.8357\n",
      "Epoch 45/50\n",
      "72/72 [==============================] - 0s 4ms/step - loss: 0.3910 - accuracy: 0.8469\n",
      "Epoch 46/50\n",
      "72/72 [==============================] - 0s 3ms/step - loss: 0.3895 - accuracy: 0.8427\n",
      "Epoch 47/50\n",
      "72/72 [==============================] - 0s 3ms/step - loss: 0.3872 - accuracy: 0.8441\n",
      "Epoch 48/50\n",
      "72/72 [==============================] - 0s 3ms/step - loss: 0.3902 - accuracy: 0.8399\n",
      "Epoch 49/50\n",
      "72/72 [==============================] - 0s 3ms/step - loss: 0.3866 - accuracy: 0.8427\n",
      "Epoch 50/50\n",
      "72/72 [==============================] - 0s 3ms/step - loss: 0.3873 - accuracy: 0.8371\n",
      "6/6 [==============================] - 0s 2ms/step - loss: 0.6904 - accuracy: 0.7765\n",
      "\n",
      "accuracy: 77.65%\n"
     ]
    }
   ],
   "source": [
    "X_train, X_test, y_train, y_test = prepare_inputData(df)\n",
    "model = train_model(X_train, X_test, y_train, y_test)"
   ]
  },
  {
   "cell_type": "code",
   "execution_count": 7,
   "metadata": {},
   "outputs": [
    {
     "ename": "NameError",
     "evalue": "name 'testX' is not defined",
     "output_type": "error",
     "traceback": [
      "\u001b[0;31m---------------------------------------------------------------------------\u001b[0m",
      "\u001b[0;31mNameError\u001b[0m                                 Traceback (most recent call last)",
      "\u001b[0;32m<ipython-input-7-026fc1fe857d>\u001b[0m in \u001b[0;36m<module>\u001b[0;34m\u001b[0m\n\u001b[0;32m----> 1\u001b[0;31m \u001b[0mmodel\u001b[0m\u001b[0;34m.\u001b[0m\u001b[0mevaluate\u001b[0m\u001b[0;34m(\u001b[0m\u001b[0mtestX\u001b[0m \u001b[0;34m,\u001b[0m \u001b[0mtest\u001b[0m\u001b[0;34m)\u001b[0m\u001b[0;34m\u001b[0m\u001b[0;34m\u001b[0m\u001b[0m\n\u001b[0m",
      "\u001b[0;31mNameError\u001b[0m: name 'testX' is not defined"
     ]
    }
   ],
   "source": [
    "model.evaluate(testX , test)"
   ]
  },
  {
   "cell_type": "markdown",
   "metadata": {},
   "source": [
    "### For Further Exploration\n",
    "- Deep Learning basic concepts simplified : https://www.youtube.com/playlist?list=PLZHQObOWTQDNU6R1_67000Dx_ZCJB-3pi"
   ]
  },
  {
   "cell_type": "code",
   "execution_count": null,
   "metadata": {},
   "outputs": [],
   "source": []
  }
 ],
 "metadata": {
  "kernelspec": {
   "display_name": "Python 3",
   "language": "python",
   "name": "python3"
  },
  "language_info": {
   "codemirror_mode": {
    "name": "ipython",
    "version": 3
   },
   "file_extension": ".py",
   "mimetype": "text/x-python",
   "name": "python",
   "nbconvert_exporter": "python",
   "pygments_lexer": "ipython3",
   "version": "3.8.3"
  }
 },
 "nbformat": 4,
 "nbformat_minor": 4
}
