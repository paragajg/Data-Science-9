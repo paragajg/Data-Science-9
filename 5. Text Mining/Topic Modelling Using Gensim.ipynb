{
 "cells": [
  {
   "cell_type": "markdown",
   "metadata": {},
   "source": [
    "### Topic Modelling Demo Code"
   ]
  },
  {
   "cell_type": "markdown",
   "metadata": {},
   "source": [
    "#### Things I want to do -\n",
    "- Identify a package to build / train LDA model\n",
    "- Use visualization to explore Documents -> Topics Distribution -> Word distribution"
   ]
  },
  {
   "cell_type": "code",
   "execution_count": null,
   "metadata": {},
   "outputs": [],
   "source": [
    "# !pip install pyLDAvis gensim --user"
   ]
  },
  {
   "cell_type": "code",
   "execution_count": 1,
   "metadata": {},
   "outputs": [
    {
     "name": "stderr",
     "output_type": "stream",
     "text": [
      "/Users/paragpradhan/opt/anaconda3/lib/python3.8/site-packages/scipy/sparse/sparsetools.py:21: DeprecationWarning: `scipy.sparse.sparsetools` is deprecated!\n",
      "scipy.sparse.sparsetools is a private module for scipy.sparse, and should not be used.\n",
      "  _deprecated()\n"
     ]
    }
   ],
   "source": [
    "import numpy as np\n",
    "import pandas as pd\n",
    "\n",
    "# Visualization\n",
    "import matplotlib.pyplot as plt\n",
    "from matplotlib.ticker import FuncFormatter\n",
    "import seaborn as sns\n",
    "import pyLDAvis.gensim\n",
    "\n",
    "# Text Preprocessing and model building\n",
    "from gensim.corpora import Dictionary\n",
    "import nltk\n",
    "from nltk.stem import WordNetLemmatizer\n",
    "import re\n",
    "# Iteratively read files\n",
    "import glob\n",
    "import os\n",
    "\n",
    "# For displaying images in ipython\n",
    "from IPython.display import HTML, display"
   ]
  },
  {
   "cell_type": "code",
   "execution_count": 2,
   "metadata": {},
   "outputs": [],
   "source": [
    "%matplotlib inline\n",
    "plt.style.use('ggplot')\n",
    "plt.rcParams['figure.figsize'] = (14.0, 8.7)\n",
    "#warnings.filterwarnings('ignore')\n",
    "pd.options.display.float_format = '{:,.2f}'.format"
   ]
  },
  {
   "cell_type": "markdown",
   "metadata": {},
   "source": [
    "<h2>Latent Dirichlet Allocation</h2>\n",
    "<h3>From Documents -- DTM -- LDA Model</h3>\n",
    "\n",
    "Topic modeling aims to automatically summarize large collections of documents to facilitate organization and management, as well as search and recommendations. At the same time, it can enable the understanding of documents to the extent that humans can interpret the descriptions of topics\n",
    "\n",
    "<img src=\"images/lda2.png\" alt=\"lda\" style=\"width:60%\">\n",
    "<img src=\"images/docs_to_lda.png\" alt=\"ldaflow\" style=\"width:100%\">"
   ]
  },
  {
   "cell_type": "markdown",
   "metadata": {},
   "source": [
    "### Load Data"
   ]
  },
  {
   "cell_type": "code",
   "execution_count": 3,
   "metadata": {},
   "outputs": [],
   "source": [
    "# User defined function to read and store bbc data from multipe folders\n",
    "def load_data(folder_names,root_path):\n",
    "    fileNames = [path + '/' + 'bbc' +'/'+ folder + '/*.txt' for path,folder in zip([root_path]*len(folder_names),\n",
    "                                                                               folder_names )]\n",
    "    doc_list = []\n",
    "    tags = folder_names\n",
    "    for docs in fileNames:\n",
    "        #print(docs)\n",
    "        #print(type(docs))\n",
    "        doc = glob.glob(docs) # glob method iterates through the all the text documents in a folder\n",
    "        for text in doc:\n",
    "            with open(text, encoding='latin1') as f:\n",
    "                topic = docs.split('/')[-2]\n",
    "\n",
    "                lines = f.readlines()\n",
    "                heading = lines[0].strip()\n",
    "                body = ' '.join([l.strip() for l in lines[1:]])\n",
    "                doc_list.append([topic, heading, body])\n",
    "        print(\"Completed loading data from folder: %s\"%topic)\n",
    "    \n",
    "    print(\"Completed Loading entire text\")\n",
    "    \n",
    "    return doc_list"
   ]
  },
  {
   "cell_type": "code",
   "execution_count": 4,
   "metadata": {},
   "outputs": [
    {
     "name": "stdout",
     "output_type": "stream",
     "text": [
      "Completed loading data from folder: business\n",
      "Completed loading data from folder: entertainment\n",
      "Completed loading data from folder: politics\n",
      "Completed loading data from folder: sport\n",
      "Completed loading data from folder: tech\n",
      "Completed Loading entire text\n"
     ]
    }
   ],
   "source": [
    "folder_names = ['business','entertainment','politics','sport','tech']\n",
    "docs = load_data(folder_names = folder_names, root_path = os.getcwd())"
   ]
  },
  {
   "cell_type": "code",
   "execution_count": 5,
   "metadata": {},
   "outputs": [
    {
     "name": "stdout",
     "output_type": "stream",
     "text": [
      "   Category                            Heading  \\\n",
      "0  business    UK economy facing 'major risks'   \n",
      "1  business  Aids and climate top Davos agenda   \n",
      "2  business   Asian quake hits European shares   \n",
      "3  business   India power shares jump on debut   \n",
      "4  business    Lacroix label bought by US firm   \n",
      "\n",
      "                                             Article  \n",
      "0   The UK manufacturing sector will continue to ...  \n",
      "1   Climate change and the fight against Aids are...  \n",
      "2   Shares in Europe's leading reinsurers and tra...  \n",
      "3   Shares in India's largest power producer, Nat...  \n",
      "4   Luxury goods group LVMH has sold its loss-mak...  \n",
      "\n",
      "Shape of data is (2225, 3)\n",
      "\n"
     ]
    }
   ],
   "source": [
    "docs = pd.DataFrame(docs, columns=['Category', 'Heading', 'Article'])\n",
    "print(docs.head())\n",
    "print('\\nShape of data is {}\\n'.format(docs.shape))"
   ]
  },
  {
   "cell_type": "markdown",
   "metadata": {},
   "source": [
    "### Extract Raw Corpus"
   ]
  },
  {
   "cell_type": "code",
   "execution_count": 6,
   "metadata": {},
   "outputs": [],
   "source": [
    "articles = docs.Article.tolist()"
   ]
  },
  {
   "cell_type": "code",
   "execution_count": 7,
   "metadata": {},
   "outputs": [
    {
     "name": "stdout",
     "output_type": "stream",
     "text": [
      "<class 'list'>\n",
      "[' The UK manufacturing sector will continue to face \"serious challenges\" over the next two years, the British Chamber of Commerce (BCC) has said.  The group\\'s quarterly survey of companies found exports had picked up in the last three months of 2004 to their best levels in eight years. The rise came despite exchange rates being cited as a major concern. However, the BCC found the whole UK economy still faced \"major risks\" and warned that growth is set to slow. It recently forecast economic growth will slow from more than 3% in 2004 to a little below 2.5% in both 2005 and 2006.  Manufacturers\\' domestic sales growth fell back slightly in the quarter, the survey of 5,196 firms found. Employment in manufacturing also fell and job expectations were at their lowest level for a year.  \"Despite some positive news for the export sector, there are worrying signs for manufacturing,\" the BCC said. \"These results reinforce our concern over the sector\\'s persistent inability to sustain recovery.\" The outlook for the service sector was \"uncertain\" despite an increase in exports and orders over the quarter, the BCC noted.  The BCC found confidence increased in the quarter across both the manufacturing and service sectors although overall it failed to reach the levels at the start of 2004. The reduced threat of interest rate increases had contributed to improved confidence, it said. The Bank of England raised interest rates five times between November 2003 and August last year. But rates have been kept on hold since then amid signs of falling consumer confidence and a slowdown in output. \"The pressure on costs and margins, the relentless increase in regulations, and the threat of higher taxes remain serious problems,\" BCC director general David Frost said. \"While consumer spending is set to decelerate significantly over the next 12-18 months, it is unlikely that investment and exports will rise sufficiently strongly to pick up the slack.\"', ' Climate change and the fight against Aids are leading the list of concerns for the first day of the World Economic Forum in the Swiss resort of Davos.  Some 2,000 business and political leaders from around the globe will listen to UK Prime Minister Tony Blair\\'s opening speech on Wednesday. Mr Blair will focus on Africa\\'s development plans and global warming. Earlier in the day came an update on efforts to have 3 million people on anti-Aids drugs by the end of 2005. The World Health Organisation (WHO) said 700,000 people in poor countries were on life-extending drugs - up from 440,000 six months earlier but amounting to only 12% of the 5.8 million who needed them. A $2bn \"funding gap\" still stood in the way of hitting the 2005 target, the WHO said.  The themes to be stressed by Mr Blair - whose attendance was announced at the last minute - are those he wants to dominate the UK\\'s chairmanship of the G8 group of industrialised states. Other issues to be discussed at the five-day conference range from China\\'s  economic power to Iraq\\'s future after this Sunday\\'s elections. Aside from Mr Blair, more than 20 other world leaders are expected to attend including French President Jacques Chirac - due to speak by video link after bad weather delayed his helicopter - and South African President Thabo Mbeki, whose arrival has been delayed by Ivory Coast peace talks. The Ukraine\\'s new president, Viktor Yushchenko, will also be there - as will newly elected Palestinian leader Mahmoud Abbas. Showbiz figures will also put in an appearance, from U2 frontman Bono - a well-known campaigner on trade and development issues - to Angelina Jolie, a goodwill campaigner for the UN on refugees.  Unlike previous years, protests against the WEF are expected to be muted. Anti-globalisation campaigners have called off a demonstration planned for the weekend. At the same time, about 100,000 people are expected to converge on the Brazilian resort of Porto Alegre for the World Social Forum - the so-called \"anti-Davos\" for campaigners against globalisation, for fair trade, and many other causes.  In contrast, the Davos forum is dominated by business issues - from outsourcing to corporate leadership - with bosses of more than a fifth of the world\\'s 500 largest companies scheduled to attend. A survey published on the eve of the conference by PricewaterhouseCoopers said four in ten business leaders were \"very confident\" that their companies would see sales rise in 2005. Asian and American executives, however, were much more confident than their European counterparts. But the political discussions, focusing on Iran, Iraq and China, are likely to dominate media attention.']\n"
     ]
    }
   ],
   "source": [
    "print(type(articles))\n",
    "print(articles[0:2])"
   ]
  },
  {
   "cell_type": "code",
   "execution_count": 8,
   "metadata": {},
   "outputs": [],
   "source": [
    "wordnet_lemmatizer = WordNetLemmatizer()"
   ]
  },
  {
   "cell_type": "markdown",
   "metadata": {},
   "source": [
    "### Preprocessing of Raw Text"
   ]
  },
  {
   "cell_type": "code",
   "execution_count": 9,
   "metadata": {},
   "outputs": [],
   "source": [
    "from nltk.corpus import stopwords\n",
    "import nltk\n",
    "# nltk.download('punkt')\n",
    "# nltk.download('wordnet')\n",
    "# nltk.download('stopwords')"
   ]
  },
  {
   "cell_type": "code",
   "execution_count": null,
   "metadata": {},
   "outputs": [],
   "source": [
    "# nltk.download('stopwords')"
   ]
  },
  {
   "cell_type": "code",
   "execution_count": 10,
   "metadata": {},
   "outputs": [],
   "source": [
    "stopwords = stopwords.words('english')"
   ]
  },
  {
   "cell_type": "code",
   "execution_count": 13,
   "metadata": {},
   "outputs": [
    {
     "data": {
      "text/plain": [
       "(['i',\n",
       "  'me',\n",
       "  'my',\n",
       "  'myself',\n",
       "  'we',\n",
       "  'our',\n",
       "  'ours',\n",
       "  'ourselves',\n",
       "  'you',\n",
       "  \"you're\"],\n",
       " 'Total words in stopwords list 179')"
      ]
     },
     "execution_count": 13,
     "metadata": {},
     "output_type": "execute_result"
    }
   ],
   "source": [
    "stopwords[0:10] , f\"Total words in stopwords list {len(stopwords)}\""
   ]
  },
  {
   "cell_type": "code",
   "execution_count": 14,
   "metadata": {},
   "outputs": [],
   "source": [
    "# Method to preprocess my raw data\n",
    "def preprocessText(x):\n",
    "    temp = x.lower()\n",
    "    temp = re.sub(r'[^\\w]', ' ', temp)\n",
    "    temp = nltk.word_tokenize(temp)\n",
    "    temp = [wordnet_lemmatizer.lemmatize(w) for w in temp]\n",
    "    temp = [word for word in temp if word not in stopwords ]\n",
    "    return temp"
   ]
  },
  {
   "cell_type": "markdown",
   "metadata": {},
   "source": [
    "### Stemming\n",
    "readily - !ily --> read\n",
    "volley  -  !y --> volle\n",
    "\n",
    "### Lemmetaization Statistical method of reducing words to root / base form -\n",
    "volley --> volley\n"
   ]
  },
  {
   "cell_type": "code",
   "execution_count": 15,
   "metadata": {},
   "outputs": [],
   "source": [
    "articles_final = [preprocessText(article) for article in articles]"
   ]
  },
  {
   "cell_type": "code",
   "execution_count": null,
   "metadata": {},
   "outputs": [],
   "source": [
    "articles_final[0:2]"
   ]
  },
  {
   "cell_type": "markdown",
   "metadata": {},
   "source": [
    "### Transformation of Preprocessed text into Vector form using Gensim"
   ]
  },
  {
   "cell_type": "code",
   "execution_count": 17,
   "metadata": {},
   "outputs": [],
   "source": [
    "# Create a dictionary representation of the documents.\n",
    "dictionary = Dictionary(articles_final)\n",
    "\n",
    "# Filter out words that occur less than 20 documents, or more than 50% of the documents.\n",
    "dictionary.filter_extremes(no_below=20, no_above=0.5)"
   ]
  },
  {
   "cell_type": "code",
   "execution_count": 18,
   "metadata": {},
   "outputs": [
    {
     "name": "stdout",
     "output_type": "stream",
     "text": [
      "Dictionary(3101 unique tokens: ['12', '18', '2', '2003', '2004']...)\n"
     ]
    }
   ],
   "source": [
    "print(dictionary)"
   ]
  },
  {
   "cell_type": "code",
   "execution_count": 19,
   "metadata": {},
   "outputs": [],
   "source": [
    "# Bag-of-words representation of the documents.\n",
    "corpus = [dictionary.doc2bow(doc) for doc in articles_final]"
   ]
  },
  {
   "cell_type": "code",
   "execution_count": 20,
   "metadata": {},
   "outputs": [
    {
     "name": "stdout",
     "output_type": "stream",
     "text": [
      "Number of unique tokens: 3101\n",
      "Number of documents: 2225\n"
     ]
    }
   ],
   "source": [
    "print('Number of unique tokens: %d' % len(dictionary))\n",
    "print('Number of documents: %d' % len(corpus))"
   ]
  },
  {
   "cell_type": "code",
   "execution_count": null,
   "metadata": {},
   "outputs": [],
   "source": [
    "corpus[0]"
   ]
  },
  {
   "cell_type": "markdown",
   "metadata": {},
   "source": [
    "### Train LDA model using Gensim"
   ]
  },
  {
   "cell_type": "code",
   "execution_count": 28,
   "metadata": {},
   "outputs": [],
   "source": [
    "# Train LDA model.\n",
    "from gensim.models import LdaModel\n",
    "\n",
    "# Set training parameters.\n",
    "num_topics = 5\n",
    "chunksize = 2000\n",
    "passes = 10\n",
    "# iterations = 400\n",
    "eval_every = None  # Don't evaluate model perplexity, takes too much time.\n",
    "\n",
    "# Make a index to word dictionary.\n",
    "temp = dictionary[0]  # This is only to \"load\" the dictionary.\n",
    "id2word = dictionary.id2token\n",
    "# print(id2word)\n",
    "\n",
    "model = LdaModel(\n",
    "    corpus=corpus,\n",
    "    id2word=id2word,\n",
    "    chunksize=chunksize,\n",
    "    alpha='auto',\n",
    "    eta='auto',\n",
    "#     iterations=iterations,\n",
    "    num_topics=num_topics,\n",
    "    passes=passes,\n",
    "    eval_every=eval_every\n",
    ")"
   ]
  },
  {
   "cell_type": "markdown",
   "metadata": {},
   "source": [
    "### Model exploration: Top K words in each topic"
   ]
  },
  {
   "cell_type": "code",
   "execution_count": 23,
   "metadata": {},
   "outputs": [],
   "source": [
    "import pprint"
   ]
  },
  {
   "cell_type": "code",
   "execution_count": 30,
   "metadata": {},
   "outputs": [
    {
     "name": "stdout",
     "output_type": "stream",
     "text": [
      "[(0,\n",
      "  '0.013*\"mobile\" + 0.011*\"people\" + 0.011*\"technology\" + 0.010*\"phone\" + '\n",
      "  '0.007*\"firm\" + 0.007*\"user\" + 0.006*\"use\" + 0.006*\"new\" + 0.006*\"microsoft\" '\n",
      "  '+ 0.006*\"one\" + 0.005*\"music\" + 0.005*\"pc\" + 0.005*\"service\" + '\n",
      "  '0.005*\"software\" + 0.005*\"computer\" + 0.005*\"device\" + 0.005*\"could\" + '\n",
      "  '0.005*\"network\" + 0.005*\"digital\" + 0.005*\"system\"'),\n",
      " (1,\n",
      "  '0.015*\"people\" + 0.014*\"service\" + 0.010*\"broadband\" + 0.008*\"online\" + '\n",
      "  '0.008*\"internet\" + 0.008*\"net\" + 0.008*\"could\" + 0.008*\"million\" + '\n",
      "  '0.008*\"uk\" + 0.008*\"new\" + 0.006*\"bt\" + 0.006*\"one\" + 0.006*\"access\" + '\n",
      "  '0.006*\"call\" + 0.005*\"number\" + 0.005*\"tv\" + 0.005*\"user\" + 0.005*\"card\" + '\n",
      "  '0.005*\"website\" + 0.005*\"blog\"'),\n",
      " (2,\n",
      "  '0.035*\"game\" + 0.010*\"film\" + 0.009*\"dvd\" + 0.008*\"player\" + 0.008*\"best\" + '\n",
      "  '0.008*\"like\" + 0.008*\"time\" + 0.007*\"one\" + 0.007*\"title\" + 0.007*\"world\" + '\n",
      "  '0.006*\"play\" + 0.006*\"first\" + 0.006*\"new\" + 0.005*\"award\" + 0.005*\"2\" + '\n",
      "  '0.005*\"top\" + 0.005*\"next\" + 0.005*\"well\" + 0.004*\"high\" + 0.004*\"last\"'),\n",
      " (3,\n",
      "  '0.013*\"file\" + 0.013*\"mr\" + 0.009*\"people\" + 0.009*\"software\" + '\n",
      "  '0.009*\"legal\" + 0.008*\"system\" + 0.008*\"music\" + 0.008*\"u\" + 0.007*\"make\" + '\n",
      "  '0.007*\"could\" + 0.006*\"industry\" + 0.006*\"campaign\" + 0.006*\"apple\" + '\n",
      "  '0.006*\"one\" + 0.006*\"network\" + 0.006*\"computer\" + 0.006*\"work\" + '\n",
      "  '0.006*\"used\" + 0.005*\"peer\" + 0.005*\"information\"'),\n",
      " (4,\n",
      "  '0.010*\"mr\" + 0.006*\"u\" + 0.005*\"â\" + 0.005*\"government\" + 0.005*\"new\" + '\n",
      "  '0.004*\"last\" + 0.004*\"time\" + 0.004*\"could\" + 0.004*\"two\" + 0.004*\"say\" + '\n",
      "  '0.004*\"one\" + 0.004*\"party\" + 0.004*\"minister\" + 0.004*\"election\" + '\n",
      "  '0.004*\"1\" + 0.003*\"labour\" + 0.003*\"told\" + 0.003*\"country\" + '\n",
      "  '0.003*\"company\" + 0.003*\"first\"')]\n"
     ]
    }
   ],
   "source": [
    "# Print the Keyword in the 10 topics\n",
    "pprint.pprint(model.print_topics(num_words= 20))\n",
    "doc_lda = model[corpus]"
   ]
  },
  {
   "cell_type": "markdown",
   "metadata": {},
   "source": [
    "### Model Visualization using PyLDAvis"
   ]
  },
  {
   "cell_type": "code",
   "execution_count": 31,
   "metadata": {},
   "outputs": [
    {
     "data": {
      "text/html": [
       "\n",
       "<link rel=\"stylesheet\" type=\"text/css\" href=\"https://cdn.rawgit.com/bmabey/pyLDAvis/files/ldavis.v1.0.0.css\">\n",
       "\n",
       "\n",
       "<div id=\"ldavis_el51931404566917807363875529874\"></div>\n",
       "<script type=\"text/javascript\">\n",
       "\n",
       "var ldavis_el51931404566917807363875529874_data = {\"mdsDat\": {\"x\": [-0.05682926603415716, -0.18075342884295484, 0.028070058452508498, 0.06631764721209368, 0.14319498921250984], \"y\": [-0.09628438403391756, 0.08405049909135158, 0.002552408496617975, -0.10747847994727608, 0.11715995639322395], \"topics\": [1, 2, 3, 4, 5], \"cluster\": [1, 1, 1, 1, 1], \"Freq\": [57.14731979370117, 17.2049617767334, 13.407464027404785, 6.274515151977539, 5.965737342834473]}, \"tinfo\": {\"Term\": [\"game\", \"people\", \"mr\", \"service\", \"mobile\", \"could\", \"film\", \"dvd\", \"phone\", \"one\", \"u\", \"technology\", \"new\", \"best\", \"uk\", \"file\", \"software\", \"music\", \"firm\", \"system\", \"make\", \"player\", \"title\", \"online\", \"net\", \"user\", \"legal\", \"million\", \"broadband\", \"internet\", \"tax\", \"blair\", \"tory\", \"economy\", \"brown\", \"chancellor\", \"conservative\", \"yukos\", \"lib\", \"investor\", \"russia\", \"wale\", \"denied\", \"reform\", \"rugby\", \"liverpool\", \"shareholder\", \"agreement\", \"deficit\", \"kennedy\", \"economist\", \"administration\", \"v\", \"argued\", \"domestic\", \"prosecutor\", \"east\", \"robinson\", \"blunkett\", \"johnson\", \"election\", \"labour\", \"minister\", \"club\", \"economic\", \"howard\", \"coach\", \"prime\", \"sir\", \"mp\", \"party\", \"oil\", \"eu\", \"olympic\", \"england\", \"ireland\", \"vote\", \"government\", \"council\", \"foreign\", \"secretary\", \"former\", \"lord\", \"claim\", \"mr\", \"law\", \"\\u00e2\", \"country\", \"6\", \"state\", \"1\", \"u\", \"5\", \"plan\", \"last\", \"told\", \"two\", \"4\", \"back\", \"say\", \"new\", \"month\", \"could\", \"time\", \"company\", \"one\", \"first\", \"week\", \"made\", \"people\", \"world\", \"market\", \"award\", \"chart\", \"hip\", \"hollywood\", \"ray\", \"actor\", \"los\", \"sequel\", \"nomination\", \"oscar\", \"theatre\", \"bafta\", \"album\", \"aviator\", \"adventure\", \"blockbuster\", \"angeles\", \"title\", \"actress\", \"genre\", \"hop\", \"soul\", \"animated\", \"halo\", \"nominee\", \"brit\", \"hero\", \"nominated\", \"dance\", \"elvis\", \"game\", \"dvd\", \"prize\", \"disc\", \"academy\", \"star\", \"gamers\", \"film\", \"format\", \"studio\", \"definition\", \"best\", \"xbox\", \"spanish\", \"fan\", \"play\", \"san\", \"console\", \"player\", \"really\", \"like\", \"top\", \"sony\", \"world\", \"time\", \"2\", \"high\", \"one\", \"first\", \"well\", \"next\", \"video\", \"new\", \"music\", \"much\", \"last\", \"two\", \"sale\", \"make\", \"virus\", \"portable\", \"handset\", \"3g\", \"wireless\", \"multimedia\", \"storage\", \"infected\", \"itunes\", \"laptop\", \"battery\", \"recorder\", \"nokia\", \"cell\", \"messaging\", \"gadget\", \"keyboard\", \"lifestyle\", \"processor\", \"mobile\", \"machine\", \"upgrade\", \"photo\", \"malicious\", \"device\", \"search\", \"camera\", \"electronics\", \"downloads\", \"function\", \"phone\", \"window\", \"microsoft\", \"program\", \"operator\", \"chip\", \"pc\", \"mail\", \"technology\", \"digital\", \"user\", \"data\", \"spam\", \"engine\", \"consumer\", \"network\", \"computer\", \"use\", \"software\", \"security\", \"message\", \"people\", \"firm\", \"system\", \"music\", \"site\", \"using\", \"service\", \"e\", \"many\", \"one\", \"new\", \"could\", \"market\", \"mr\", \"company\", \"bt\", \"blog\", \"sky\", \"broadband\", \"id\", \"provider\", \"telephone\", \"spokesperson\", \"identity\", \"subscriber\", \"viewer\", \"conversation\", \"equivalent\", \"premium\", \"document\", \"broadcaster\", \"cable\", \"sea\", \"card\", \"harm\", \"aged\", \"household\", \"fierce\", \"ordinary\", \"web\", \"hi\", \"access\", \"commissioned\", \"internet\", \"shift\", \"respond\", \"mp3\", \"channel\", \"call\", \"connection\", \"net\", \"service\", \"customer\", \"online\", \"name\", \"fast\", \"organisation\", \"content\", \"million\", \"tv\", \"people\", \"website\", \"survey\", \"uk\", \"user\", \"could\", \"programme\", \"information\", \"number\", \"new\", \"report\", \"digital\", \"use\", \"one\", \"company\", \"technology\", \"world\", \"mr\", \"way\", \"copyright\", \"studying\", \"peer\", \"poster\", \"reference\", \"dan\", \"professor\", \"sharing\", \"musician\", \"adaptation\", \"student\", \"journalist\", \"sentence\", \"file\", \"lawsuit\", \"reporter\", \"science\", \"promote\", \"illegally\", \"university\", \"researcher\", \"lab\", \"library\", \"illegal\", \"college\", \"shut\", \"colour\", \"murder\", \"shared\", \"filed\", \"legal\", \"human\", \"material\", \"apple\", \"software\", \"piracy\", \"light\", \"project\", \"campaign\", \"system\", \"source\", \"movie\", \"court\", \"child\", \"industry\", \"information\", \"music\", \"network\", \"computer\", \"site\", \"used\", \"mr\", \"people\", \"make\", \"work\", \"online\", \"u\", \"could\", \"help\", \"website\", \"one\", \"action\", \"way\"], \"Freq\": [2357.0, 1821.0, 2992.0, 858.0, 694.0, 1598.0, 781.0, 645.0, 569.0, 1860.0, 1940.0, 815.0, 1959.0, 652.0, 997.0, 362.0, 518.0, 707.0, 977.0, 597.0, 1079.0, 861.0, 455.0, 524.0, 466.0, 548.0, 336.0, 618.0, 287.0, 395.0, 520.2908325195312, 520.1685180664062, 450.9039306640625, 436.3154296875, 418.572265625, 254.20423889160156, 236.41075134277344, 168.99749755859375, 157.74952697753906, 153.9800262451172, 151.1157989501953, 346.37530517578125, 144.46160888671875, 126.8384017944336, 195.59854125976562, 149.10182189941406, 121.22991180419922, 127.65547943115234, 120.29685974121094, 116.52913665771484, 111.86089324951172, 103.31568908691406, 110.83110046386719, 103.34254455566406, 97.78630065917969, 97.66497039794922, 101.4336929321289, 116.2545166015625, 90.29793548583984, 103.23957061767578, 768.3216552734375, 721.570068359375, 776.2986450195312, 407.8027648925781, 379.0662841796875, 327.82403564453125, 230.99874877929688, 326.4364013671875, 163.62600708007812, 268.60308837890625, 784.80712890625, 279.93438720703125, 339.5978088378906, 152.566162109375, 551.3665771484375, 307.18115234375, 225.540771484375, 1039.0887451171875, 280.07781982421875, 373.57489013671875, 267.3785095214844, 399.3515930175781, 351.5899658203125, 379.8716125488281, 2174.866943359375, 573.5524291992188, 1103.005126953125, 686.8161010742188, 523.0059814453125, 475.18853759765625, 756.9253540039062, 1354.08203125, 462.0711975097656, 536.539306640625, 961.7876586914062, 693.2608642578125, 834.38720703125, 453.19268798828125, 625.6171875, 822.72802734375, 1021.9376831054688, 628.2937622070312, 860.0628051757812, 864.754150390625, 674.0286254882812, 819.0086669921875, 659.1802978515625, 556.1405029296875, 531.2920532226562, 597.2649536132812, 563.9690551757812, 529.2603759765625, 354.9746398925781, 114.38613891601562, 103.76921081542969, 103.65504455566406, 197.8817138671875, 122.56714630126953, 73.8375473022461, 54.4446907043457, 57.720420837402344, 83.41759490966797, 59.220829010009766, 49.513694763183594, 99.63499450683594, 39.181053161621094, 34.700843811035156, 34.69710922241211, 45.30385971069336, 445.3531188964844, 64.54854583740234, 54.9246711730957, 94.73579406738281, 26.47044563293457, 24.432506561279297, 91.0971450805664, 25.22075080871582, 24.75092124938965, 41.84873962402344, 43.51691436767578, 22.325651168823242, 22.604843139648438, 2251.58984375, 611.9572143554688, 121.84099578857422, 135.0331573486328, 43.615718841552734, 245.10403442382812, 181.8558807373047, 675.6812744140625, 198.419921875, 209.7140655517578, 215.11822509765625, 515.8248291015625, 177.58106994628906, 98.75719451904297, 199.56100463867188, 404.3990173339844, 140.76986694335938, 231.50096130371094, 521.337646484375, 254.57838439941406, 489.2859191894531, 317.2054443359375, 222.2199249267578, 435.2375793457031, 488.34661865234375, 324.1635437011719, 291.7973937988281, 469.5826416015625, 383.702392578125, 301.7841491699219, 311.8780212402344, 219.80015563964844, 364.5550842285156, 242.1901397705078, 234.7581024169922, 272.1413269042969, 240.08444213867188, 226.7477569580078, 226.74847412109375, 226.2732391357422, 118.08281707763672, 115.34884643554688, 112.33605194091797, 97.80962371826172, 62.421321868896484, 69.22266387939453, 47.645179748535156, 38.895591735839844, 38.89768600463867, 33.683143615722656, 31.76679801940918, 51.40869140625, 70.88745880126953, 25.195215225219727, 244.58941650390625, 27.026653289794922, 19.991254806518555, 56.23530578613281, 658.2438354492188, 209.3052215576172, 26.018983840942383, 69.46307373046875, 58.413551330566406, 265.68121337890625, 223.86956787109375, 111.39665222167969, 78.4894027709961, 29.674104690551758, 39.3851318359375, 485.3305358886719, 151.08447265625, 298.0611572265625, 194.32217407226562, 115.37518310546875, 120.3744125366211, 271.04278564453125, 196.8461151123047, 540.3606567382812, 259.2864685058594, 347.04095458984375, 220.6990203857422, 83.9974594116211, 80.28096771240234, 245.89540100097656, 262.7417907714844, 267.81634521484375, 299.2755432128906, 268.84393310546875, 199.76870727539062, 153.43617248535156, 560.919677734375, 349.65936279296875, 256.362548828125, 275.8457336425781, 198.25672912597656, 189.16583251953125, 270.6767578125, 163.630859375, 247.83563232421875, 296.5192565917969, 298.2510070800781, 263.1988525390625, 218.73597717285156, 246.5690460205078, 222.77223205566406, 143.4958953857422, 122.56961059570312, 61.43962860107422, 238.66632080078125, 42.421363830566406, 59.52372741699219, 34.303993225097656, 23.465280532836914, 29.557052612304688, 21.993818283081055, 48.57728958129883, 16.421791076660156, 18.896377563476562, 21.907493591308594, 64.16148376464844, 31.257604598999023, 52.19304656982422, 11.534525871276855, 124.4443588256836, 19.01900863647461, 24.042633056640625, 33.236610412597656, 15.950100898742676, 19.87614631652832, 108.9748306274414, 16.263750076293945, 135.7019805908203, 11.445886611938477, 197.36111450195312, 14.922142028808594, 25.314682006835938, 38.223079681396484, 41.555152893066406, 133.44168090820312, 57.40260696411133, 197.1387481689453, 337.9136962890625, 81.27542877197266, 200.4647979736328, 99.94305419921875, 62.35630416870117, 66.01496887207031, 104.89225769042969, 186.54000854492188, 125.16500091552734, 356.46661376953125, 123.36929321289062, 65.09624481201172, 186.52777099609375, 124.73152923583984, 195.16567993164062, 84.17745208740234, 93.88636779785156, 129.17462158203125, 181.87171936035156, 110.03685760498047, 89.54251098632812, 102.19002532958984, 140.0335693359375, 108.68965148925781, 97.69608306884766, 100.61783599853516, 107.58429718017578, 95.49027252197266, 33.500057220458984, 23.07364845275879, 121.5544662475586, 53.32878875732422, 11.987465858459473, 19.90221405029297, 26.515697479248047, 109.96765899658203, 58.25336837768555, 8.834588050842285, 84.23738861083984, 78.69235229492188, 38.00391387939453, 286.9419250488281, 62.71482849121094, 57.87321853637695, 33.196197509765625, 14.457528114318848, 22.31540870666504, 76.17695617675781, 36.73772430419922, 37.393470764160156, 46.70345687866211, 69.90638732910156, 14.117480278015137, 30.48965835571289, 42.31665802001953, 15.53201675415039, 38.796512603759766, 31.562166213989258, 206.2147216796875, 110.20957946777344, 51.109375, 139.45687866210938, 212.84066772460938, 56.124698638916016, 58.262264251708984, 106.10060119628906, 140.18434143066406, 184.59884643554688, 72.00162506103516, 108.82440948486328, 115.34050750732422, 88.70130157470703, 143.06382751464844, 121.15394592285156, 175.04092407226562, 131.3172149658203, 130.89894104003906, 113.33609008789062, 125.33322143554688, 282.7254943847656, 213.7112579345703, 168.0203399658203, 130.2134552001953, 120.75115966796875, 174.29034423828125, 162.74273681640625, 107.986572265625, 105.9234848022461, 135.3150634765625, 97.4698257446289, 103.29759216308594], \"Total\": [2357.0, 1821.0, 2992.0, 858.0, 694.0, 1598.0, 781.0, 645.0, 569.0, 1860.0, 1940.0, 815.0, 1959.0, 652.0, 997.0, 362.0, 518.0, 707.0, 977.0, 597.0, 1079.0, 861.0, 455.0, 524.0, 466.0, 548.0, 336.0, 618.0, 287.0, 395.0, 520.73828125, 520.6593017578125, 451.3683776855469, 436.84637451171875, 419.20989990234375, 254.66319274902344, 236.86358642578125, 169.4393310546875, 158.1924591064453, 154.42288208007812, 151.56410217285156, 347.489501953125, 144.95774841308594, 127.28082275390625, 196.28245544433594, 149.63697814941406, 121.66868591308594, 128.12001037597656, 120.73560333251953, 116.9727783203125, 112.30021667480469, 103.75978088378906, 111.3077621459961, 103.80288696289062, 98.23168182373047, 98.11259460449219, 101.91316986083984, 116.81369018554688, 90.74015045166016, 103.75460815429688, 772.3012084960938, 727.5284423828125, 785.6534423828125, 411.2641296386719, 382.37078857421875, 330.65032958984375, 232.1818389892578, 329.80010986328125, 164.64427185058594, 271.9090576171875, 807.0396118164062, 284.0029296875, 346.0132751464844, 153.62904357910156, 570.1749877929688, 314.4314270019531, 229.44827270507812, 1131.7884521484375, 288.5981750488281, 391.8661193847656, 276.114990234375, 429.3905029296875, 374.6168518066406, 412.1287841796875, 2992.44970703125, 659.5623168945312, 1418.876220703125, 821.755615234375, 598.6263427734375, 538.9571533203125, 945.174072265625, 1940.762939453125, 524.0178833007812, 639.1072387695312, 1390.295654296875, 932.5046997070312, 1243.5205078125, 528.7139892578125, 856.9481201171875, 1320.1190185546875, 1959.90966796875, 906.0443725585938, 1598.604248046875, 1628.8702392578125, 1114.1868896484375, 1860.459228515625, 1283.9678955078125, 822.58642578125, 828.046142578125, 1821.7066650390625, 1263.0443115234375, 823.8362426757812, 355.9188232421875, 115.1368179321289, 104.46870422363281, 104.41732788085938, 199.56463623046875, 123.64529418945312, 74.64122772216797, 55.121421813964844, 58.452125549316406, 84.52702331542969, 60.014404296875, 50.185787200927734, 101.40269470214844, 39.91228485107422, 35.375343322753906, 35.37976837158203, 46.21617126464844, 455.08673095703125, 66.10856628417969, 56.254695892333984, 97.1789321899414, 27.16263198852539, 25.104900360107422, 93.65531158447266, 25.929475784301758, 25.464380264282227, 43.08251953125, 44.84700012207031, 23.063068389892578, 23.35920524597168, 2357.9150390625, 645.4197387695312, 127.41006469726562, 141.75611877441406, 45.13310623168945, 263.4221496582031, 197.3030242919922, 781.43896484375, 222.89810180664062, 242.6311492919922, 251.36349487304688, 652.2089233398438, 205.38487243652344, 109.92630767822266, 246.12252807617188, 575.8683471679688, 166.44862365722656, 302.10601806640625, 861.0850219726562, 377.07806396484375, 974.158935546875, 569.0007934570312, 364.046875, 1263.0443115234375, 1628.8702392578125, 858.31591796875, 714.1226196289062, 1860.459228515625, 1283.9678955078125, 788.9384765625, 886.4147338867188, 469.6378173828125, 1959.90966796875, 707.9178466796875, 643.5444946289062, 1390.295654296875, 1243.5205078125, 769.9732666015625, 1079.5513916015625, 227.08163452148438, 118.87745666503906, 116.14645385742188, 113.12902069091797, 98.65596771240234, 63.21417236328125, 70.11445617675781, 48.45003128051758, 39.691253662109375, 39.697994232177734, 34.53108596801758, 32.59138488769531, 52.880130767822266, 73.07453155517578, 26.02109718322754, 254.5281524658203, 28.166719436645508, 20.842470169067383, 59.27439880371094, 694.4937133789062, 223.1182403564453, 27.842952728271484, 74.53724670410156, 62.97325897216797, 287.6488342285156, 243.0131378173828, 122.1928482055664, 89.34135437011719, 33.85737991333008, 45.19657897949219, 569.0458374023438, 175.23269653320312, 359.5951843261719, 234.60452270507812, 135.5833740234375, 142.99298095703125, 353.9338073730469, 252.52073669433594, 815.4619140625, 366.2215881347656, 548.7424926757812, 317.2756652832031, 97.82396697998047, 92.605712890625, 393.4566650390625, 438.78521728515625, 463.9892578125, 576.6482543945312, 518.8339233398438, 359.5155944824219, 239.6532440185547, 1821.7066650390625, 977.1558837890625, 597.8592529296875, 707.9178466796875, 388.57965087890625, 370.6282043457031, 858.708740234375, 273.37274169921875, 813.630126953125, 1860.459228515625, 1959.90966796875, 1598.604248046875, 823.8362426757812, 2992.44970703125, 1114.1868896484375, 145.60829162597656, 138.03823852539062, 73.33467864990234, 287.2715759277344, 60.69572448730469, 85.37329864501953, 49.2296142578125, 33.81611633300781, 42.948551177978516, 32.77273941040039, 74.30038452148438, 26.07748031616211, 30.28152084350586, 35.37537384033203, 104.31739044189453, 51.98894500732422, 90.43717956542969, 20.428157806396484, 229.91697692871094, 35.615657806396484, 45.02561950683594, 62.86399459838867, 30.184629440307617, 37.871246337890625, 211.92578125, 31.64645767211914, 266.15582275390625, 22.530445098876953, 395.49334716796875, 29.995031356811523, 51.08405685424805, 77.65330505371094, 84.94901275634766, 290.6379699707031, 119.73841857910156, 466.43145751953125, 858.708740234375, 180.8455352783203, 524.4092407226562, 241.66151428222656, 140.3768310546875, 152.16766357421875, 280.283935546875, 618.948486328125, 393.7358703613281, 1821.7066650390625, 426.3912048339844, 163.57025146484375, 997.6732788085938, 548.7424926757812, 1598.604248046875, 284.96875, 372.43084716796875, 799.7410278320312, 1959.90966796875, 570.4519653320312, 366.2215881347656, 576.6482543945312, 1860.459228515625, 1114.1868896484375, 815.4619140625, 1263.0443115234375, 2992.44970703125, 880.8548583984375, 34.27199172973633, 24.26609230041504, 128.3356170654297, 56.727813720703125, 13.006046295166016, 21.778873443603516, 29.201627731323242, 122.53141784667969, 65.0496826171875, 10.06821346282959, 96.8373031616211, 95.5618667602539, 47.6508903503418, 362.4255676269531, 81.42180633544922, 77.2629165649414, 46.527767181396484, 20.429344177246094, 31.83896827697754, 111.87066650390625, 55.581214904785156, 56.899269104003906, 72.01972961425781, 109.07939147949219, 22.065343856811523, 47.83829116821289, 66.64569091796875, 24.863142013549805, 62.45006561279297, 51.10688781738281, 336.5143127441406, 180.60919189453125, 83.77236938476562, 250.30372619628906, 518.8339233398438, 101.50688171386719, 109.15325164794922, 244.51365661621094, 380.95379638671875, 597.8592529296875, 151.17416381835938, 287.59234619140625, 316.1250915527344, 213.48291015625, 464.0443115234375, 372.43084716796875, 707.9178466796875, 438.78521728515625, 463.9892578125, 388.57965087890625, 517.2510986328125, 2992.44970703125, 1821.7066650390625, 1079.5513916015625, 635.0159301757812, 524.4092407226562, 1940.762939453125, 1598.604248046875, 446.4251403808594, 426.3912048339844, 1860.459228515625, 417.7984313964844, 880.8548583984375], \"Category\": [\"Default\", \"Default\", \"Default\", \"Default\", \"Default\", \"Default\", \"Default\", \"Default\", \"Default\", \"Default\", \"Default\", \"Default\", \"Default\", \"Default\", \"Default\", \"Default\", \"Default\", \"Default\", \"Default\", \"Default\", \"Default\", \"Default\", \"Default\", \"Default\", \"Default\", \"Default\", \"Default\", \"Default\", \"Default\", \"Default\", \"Topic1\", \"Topic1\", \"Topic1\", \"Topic1\", \"Topic1\", \"Topic1\", \"Topic1\", \"Topic1\", \"Topic1\", \"Topic1\", \"Topic1\", \"Topic1\", \"Topic1\", \"Topic1\", \"Topic1\", \"Topic1\", \"Topic1\", \"Topic1\", \"Topic1\", \"Topic1\", \"Topic1\", \"Topic1\", \"Topic1\", \"Topic1\", \"Topic1\", \"Topic1\", \"Topic1\", \"Topic1\", \"Topic1\", \"Topic1\", \"Topic1\", \"Topic1\", \"Topic1\", \"Topic1\", \"Topic1\", \"Topic1\", \"Topic1\", \"Topic1\", \"Topic1\", \"Topic1\", \"Topic1\", \"Topic1\", \"Topic1\", \"Topic1\", \"Topic1\", \"Topic1\", \"Topic1\", \"Topic1\", \"Topic1\", \"Topic1\", \"Topic1\", \"Topic1\", \"Topic1\", \"Topic1\", \"Topic1\", \"Topic1\", \"Topic1\", \"Topic1\", \"Topic1\", \"Topic1\", \"Topic1\", \"Topic1\", \"Topic1\", \"Topic1\", \"Topic1\", \"Topic1\", \"Topic1\", \"Topic1\", \"Topic1\", \"Topic1\", \"Topic1\", \"Topic1\", \"Topic1\", \"Topic1\", \"Topic1\", \"Topic1\", \"Topic1\", \"Topic1\", \"Topic1\", \"Topic1\", \"Topic1\", \"Topic1\", \"Topic2\", \"Topic2\", \"Topic2\", \"Topic2\", \"Topic2\", \"Topic2\", \"Topic2\", \"Topic2\", \"Topic2\", \"Topic2\", \"Topic2\", \"Topic2\", \"Topic2\", \"Topic2\", \"Topic2\", \"Topic2\", \"Topic2\", \"Topic2\", \"Topic2\", \"Topic2\", \"Topic2\", \"Topic2\", \"Topic2\", \"Topic2\", \"Topic2\", \"Topic2\", \"Topic2\", \"Topic2\", \"Topic2\", \"Topic2\", \"Topic2\", \"Topic2\", \"Topic2\", \"Topic2\", \"Topic2\", \"Topic2\", \"Topic2\", \"Topic2\", \"Topic2\", \"Topic2\", \"Topic2\", \"Topic2\", \"Topic2\", \"Topic2\", \"Topic2\", \"Topic2\", \"Topic2\", \"Topic2\", \"Topic2\", \"Topic2\", \"Topic2\", \"Topic2\", \"Topic2\", \"Topic2\", \"Topic2\", \"Topic2\", \"Topic2\", \"Topic2\", \"Topic2\", \"Topic2\", \"Topic2\", \"Topic2\", \"Topic2\", \"Topic2\", \"Topic2\", \"Topic2\", \"Topic2\", \"Topic2\", \"Topic2\", \"Topic3\", \"Topic3\", \"Topic3\", \"Topic3\", \"Topic3\", \"Topic3\", \"Topic3\", \"Topic3\", \"Topic3\", \"Topic3\", \"Topic3\", \"Topic3\", \"Topic3\", \"Topic3\", \"Topic3\", \"Topic3\", \"Topic3\", \"Topic3\", \"Topic3\", \"Topic3\", \"Topic3\", \"Topic3\", \"Topic3\", \"Topic3\", \"Topic3\", \"Topic3\", \"Topic3\", \"Topic3\", \"Topic3\", \"Topic3\", \"Topic3\", \"Topic3\", \"Topic3\", \"Topic3\", \"Topic3\", \"Topic3\", \"Topic3\", \"Topic3\", \"Topic3\", \"Topic3\", \"Topic3\", \"Topic3\", \"Topic3\", \"Topic3\", \"Topic3\", \"Topic3\", \"Topic3\", \"Topic3\", \"Topic3\", \"Topic3\", \"Topic3\", \"Topic3\", \"Topic3\", \"Topic3\", \"Topic3\", \"Topic3\", \"Topic3\", \"Topic3\", \"Topic3\", \"Topic3\", \"Topic3\", \"Topic3\", \"Topic3\", \"Topic3\", \"Topic3\", \"Topic3\", \"Topic4\", \"Topic4\", \"Topic4\", \"Topic4\", \"Topic4\", \"Topic4\", \"Topic4\", \"Topic4\", \"Topic4\", \"Topic4\", \"Topic4\", \"Topic4\", \"Topic4\", \"Topic4\", \"Topic4\", \"Topic4\", \"Topic4\", \"Topic4\", \"Topic4\", \"Topic4\", \"Topic4\", \"Topic4\", \"Topic4\", \"Topic4\", \"Topic4\", \"Topic4\", \"Topic4\", \"Topic4\", \"Topic4\", \"Topic4\", \"Topic4\", \"Topic4\", \"Topic4\", \"Topic4\", \"Topic4\", \"Topic4\", \"Topic4\", \"Topic4\", \"Topic4\", \"Topic4\", \"Topic4\", \"Topic4\", \"Topic4\", \"Topic4\", \"Topic4\", \"Topic4\", \"Topic4\", \"Topic4\", \"Topic4\", \"Topic4\", \"Topic4\", \"Topic4\", \"Topic4\", \"Topic4\", \"Topic4\", \"Topic4\", \"Topic4\", \"Topic4\", \"Topic4\", \"Topic4\", \"Topic4\", \"Topic4\", \"Topic4\", \"Topic4\", \"Topic5\", \"Topic5\", \"Topic5\", \"Topic5\", \"Topic5\", \"Topic5\", \"Topic5\", \"Topic5\", \"Topic5\", \"Topic5\", \"Topic5\", \"Topic5\", \"Topic5\", \"Topic5\", \"Topic5\", \"Topic5\", \"Topic5\", \"Topic5\", \"Topic5\", \"Topic5\", \"Topic5\", \"Topic5\", \"Topic5\", \"Topic5\", \"Topic5\", \"Topic5\", \"Topic5\", \"Topic5\", \"Topic5\", \"Topic5\", \"Topic5\", \"Topic5\", \"Topic5\", \"Topic5\", \"Topic5\", \"Topic5\", \"Topic5\", \"Topic5\", \"Topic5\", \"Topic5\", \"Topic5\", \"Topic5\", \"Topic5\", \"Topic5\", \"Topic5\", \"Topic5\", \"Topic5\", \"Topic5\", \"Topic5\", \"Topic5\", \"Topic5\", \"Topic5\", \"Topic5\", \"Topic5\", \"Topic5\", \"Topic5\", \"Topic5\", \"Topic5\", \"Topic5\", \"Topic5\", \"Topic5\", \"Topic5\", \"Topic5\"], \"logprob\": [30.0, 29.0, 28.0, 27.0, 26.0, 25.0, 24.0, 23.0, 22.0, 21.0, 20.0, 19.0, 18.0, 17.0, 16.0, 15.0, 14.0, 13.0, 12.0, 11.0, 10.0, 9.0, 8.0, 7.0, 6.0, 5.0, 4.0, 3.0, 2.0, 1.0, -6.028800010681152, -6.029099941253662, -6.171999931335449, -6.204899787902832, -6.246399879455566, -6.745100021362305, -6.817699909210205, -7.15339994430542, -7.2221999168396, -7.246399879455566, -7.265200138092041, -6.435699939727783, -7.310200214385986, -7.440299987792969, -7.007199764251709, -7.278600215911865, -7.485499858856201, -7.433899879455566, -7.493299961090088, -7.525100231170654, -7.565999984741211, -7.645400047302246, -7.575200080871582, -7.645199775695801, -7.700399875640869, -7.701700210571289, -7.66379976272583, -7.527500152587891, -7.780099868774414, -7.646200180053711, -5.638999938964844, -5.7017998695373535, -5.628699779510498, -6.272500038146973, -6.3454999923706055, -6.490799903869629, -6.840799808502197, -6.494999885559082, -7.185699939727783, -6.690000057220459, -5.617800235748291, -6.64870023727417, -6.45550012588501, -7.2555999755859375, -5.970799922943115, -6.555799961090088, -6.864699840545654, -5.337100028991699, -6.648200035095215, -6.360099792480469, -6.6946001052856445, -6.293399810791016, -6.42080020904541, -6.343400001525879, -4.598499774932861, -5.931399822235107, -5.277400016784668, -5.751200199127197, -6.023600101470947, -6.119500160217285, -5.6539998054504395, -5.072400093078613, -6.147500038146973, -5.9980998039245605, -5.414400100708008, -5.741799831390381, -5.55649995803833, -6.166900157928467, -5.8445000648498535, -5.5706000328063965, -5.353799819946289, -5.840199947357178, -5.526199817657471, -5.5208001136779785, -5.769999980926514, -5.575099945068359, -5.792200088500977, -5.962200164794922, -6.007900238037109, -5.890900135040283, -5.948200225830078, -6.0117998123168945, -5.2108001708984375, -6.343200206756592, -6.4405999183654785, -6.441699981689453, -5.795100212097168, -6.274099826812744, -6.780900001525879, -7.085599899291992, -7.027200222015381, -6.658899784088135, -7.001500129699707, -7.180600166320801, -6.481299877166748, -7.414599895477295, -7.535999774932861, -7.536099910736084, -7.269400119781494, -4.98390007019043, -6.91540002822876, -7.0767998695373535, -6.531700134277344, -7.80679988861084, -7.886899948120117, -6.570899963378906, -7.855100154876709, -7.873899936676025, -7.348700046539307, -7.309599876403809, -7.977099895477295, -7.964600086212158, -3.3633999824523926, -4.666100025177002, -6.280099868774414, -6.177299976348877, -7.307400226593018, -5.581099987030029, -5.8796000480651855, -4.5671000480651855, -5.792399883270264, -5.737100124359131, -5.711599826812744, -4.836999893188477, -5.90339994430542, -6.490099906921387, -5.7866997718811035, -5.080399990081787, -6.135700225830078, -5.638199806213379, -4.826399803161621, -5.5432000160217285, -4.889900207519531, -5.323200225830078, -5.679100036621094, -5.006899833679199, -4.8917999267578125, -5.301599979400635, -5.406700134277344, -4.931000232696533, -5.132900238037109, -5.3730998039245605, -5.340199947357178, -5.690100193023682, -5.184100151062012, -5.593100070953369, -5.624199867248535, -5.476500034332275, -5.601799964904785, -5.658999919891357, -5.658999919891357, -5.4116997718811035, -6.061999797821045, -6.0854997634887695, -6.1118998527526855, -6.250400066375732, -6.69950008392334, -6.596099853515625, -6.969600200653076, -7.172500133514404, -7.172500133514404, -7.316400051116943, -7.375, -6.893599987030029, -6.572299957275391, -7.606800079345703, -5.333799839019775, -7.536600112915039, -7.838099956512451, -6.803899765014648, -4.343800067901611, -5.48960018157959, -7.5746002197265625, -6.592599868774414, -6.765900135040283, -5.251100063323975, -5.422299861907959, -6.120299816131592, -6.470399856567383, -7.4430999755859375, -7.159999847412109, -4.648600101470947, -5.8155999183654785, -5.136099815368652, -5.563899993896484, -6.08519983291626, -6.042799949645996, -5.231100082397461, -5.551000118255615, -4.541200160980225, -5.2754998207092285, -4.984000205993652, -5.436600208282471, -6.402599811553955, -6.44789981842041, -5.328499794006348, -5.262199878692627, -5.243100166320801, -5.131999969482422, -5.239299774169922, -5.536300182342529, -5.800099849700928, -4.503799915313721, -4.976500034332275, -5.286799907684326, -5.213600158691406, -5.543900012969971, -5.590799808502197, -5.232500076293945, -5.735799789428711, -5.3206000328063965, -5.141300201416016, -5.135499954223633, -5.260499954223633, -5.445499897003174, -5.325799942016602, -5.427299976348877, -5.107800006866455, -5.265399932861328, -5.955999851226807, -4.598999977111816, -6.326399803161621, -5.98769998550415, -6.53879976272583, -6.918600082397461, -6.68779993057251, -6.98330020904541, -6.190899848937988, -7.2754998207092285, -7.1350998878479, -6.987299919128418, -5.912700176239014, -6.631800174713135, -6.119100093841553, -7.628799915313721, -5.250199794769287, -7.128699779510498, -6.8942999839782715, -6.570400238037109, -7.304599761962891, -7.08459997177124, -5.382999897003174, -7.285200119018555, -5.163599967956543, -7.636499881744385, -4.789100170135498, -7.371300220489502, -6.842700004577637, -6.430699825286865, -6.347099781036377, -5.1803998947143555, -6.02400016784668, -4.790200233459473, -4.251299858093262, -5.676300048828125, -4.773499965667725, -5.4695000648498535, -5.941199779510498, -5.884200096130371, -5.421199798583984, -4.8454999923706055, -5.244500160217285, -4.19789981842041, -5.258900165557861, -5.898200035095215, -4.8454999923706055, -5.247900009155273, -4.80019998550415, -5.641200065612793, -5.5320000648498535, -5.212900161743164, -4.870800018310547, -5.373300075531006, -5.579400062561035, -5.447299957275391, -5.132199764251709, -5.3856000900268555, -5.492199897766113, -5.462800025939941, -5.3958001136779785, -5.515100002288818, -6.5121002197265625, -6.884900093078613, -5.223299980163574, -6.0472002029418945, -7.53980016708374, -7.032800197601318, -6.7459001541137695, -5.323400020599365, -5.958799839019775, -7.84499979019165, -5.590000152587891, -5.658100128173828, -6.385900020599365, -4.3643999099731445, -5.885000228881836, -5.965400218963623, -6.521200180053711, -7.352399826049805, -6.918399810791016, -5.6905999183654785, -6.4197998046875, -6.402100086212158, -6.179800033569336, -5.776500225067139, -7.376200199127197, -6.606200218200684, -6.278500080108643, -7.280700206756592, -6.365300178527832, -6.571700096130371, -4.694699764251709, -5.321300029754639, -6.089700222015381, -5.085899829864502, -4.663099765777588, -5.996099948883057, -5.958700180053711, -5.3592000007629395, -5.080699920654297, -4.8053998947143555, -5.7469000816345215, -5.333899974822998, -5.275700092315674, -5.538400173187256, -5.060299873352051, -5.226600170135498, -4.85860013961792, -5.145999908447266, -5.149199962615967, -5.293300151824951, -5.192699909210205, -4.379199981689453, -4.658999919891357, -4.899499893188477, -5.1545000076293945, -5.229899883270264, -4.8628997802734375, -4.93149995803833, -5.341599941253662, -5.360899925231934, -5.116000175476074, -5.4440999031066895, -5.386000156402588], \"loglift\": [30.0, 29.0, 28.0, 27.0, 26.0, 25.0, 24.0, 23.0, 22.0, 21.0, 20.0, 19.0, 18.0, 17.0, 16.0, 15.0, 14.0, 13.0, 12.0, 11.0, 10.0, 9.0, 8.0, 7.0, 6.0, 5.0, 4.0, 3.0, 2.0, 1.0, 0.5587000250816345, 0.5586000084877014, 0.5584999918937683, 0.5583000183105469, 0.5580000281333923, 0.557699978351593, 0.5576000213623047, 0.5569000244140625, 0.5566999912261963, 0.5566999912261963, 0.5565999746322632, 0.5562999844551086, 0.5561000108718872, 0.5561000108718872, 0.5559999942779541, 0.5559999942779541, 0.555899977684021, 0.555899977684021, 0.555899977684021, 0.5557000041007996, 0.5555999875068665, 0.5551999807357788, 0.5551999807357788, 0.5551000237464905, 0.5550000071525574, 0.5550000071525574, 0.5547999739646912, 0.5547000169754028, 0.5547000169754028, 0.5546000003814697, 0.5544000267982483, 0.5512999892234802, 0.5475999712944031, 0.5511000156402588, 0.5508999824523926, 0.5509999990463257, 0.5544000267982483, 0.5493000149726868, 0.5533000230789185, 0.5472999811172485, 0.5315999984741211, 0.5450999736785889, 0.5407999753952026, 0.5526000261306763, 0.5260000228881836, 0.5361999869346619, 0.5424000024795532, 0.4740999937057495, 0.5296000242233276, 0.5116999745368958, 0.527400016784668, 0.4869999885559082, 0.4961000084877014, 0.4779999852180481, 0.24040000140666962, 0.4198000133037567, 0.3077000081539154, 0.38019999861717224, 0.4244999885559082, 0.4336000084877014, 0.33739998936653137, 0.1995999962091446, 0.43369999527931213, 0.3846000134944916, 0.19110000133514404, 0.2630999982357025, 0.16050000488758087, 0.40540000796318054, 0.24490000307559967, 0.08669999986886978, -0.0917000025510788, 0.19349999725818634, -0.06030000001192093, -0.07370000332593918, 0.05689999833703041, -0.26089999079704285, -0.10719999670982361, 0.1680999994277954, 0.11580000072717667, -0.5555999875068665, -0.2467000037431717, 0.11699999868869781, 1.7573000192642212, 1.7533999681472778, 1.7532999515533447, 1.7525999546051025, 1.7515000104904175, 1.7511999607086182, 1.7490999698638916, 1.7475999593734741, 1.7474000453948975, 1.7467999458312988, 1.7467000484466553, 1.746500015258789, 1.742400050163269, 1.7415000200271606, 1.7407000064849854, 1.7404999732971191, 1.7400000095367432, 1.7383999824523926, 1.7360999584197998, 1.7359999418258667, 1.7345000505447388, 1.7342000007629395, 1.732800006866455, 1.732300043106079, 1.732300043106079, 1.731600046157837, 1.7309000492095947, 1.7299000024795532, 1.7274999618530273, 1.7271000146865845, 1.7137999534606934, 1.7066999673843384, 1.7152999639511108, 1.711400032043457, 1.7258000373840332, 1.6878999471664429, 1.6784000396728516, 1.6145999431610107, 1.6435999870300293, 1.6141999959945679, 1.6043000221252441, 1.5254000425338745, 1.6145000457763672, 1.6527999639511108, 1.5503000020980835, 1.406499981880188, 1.5923999547958374, 1.4938000440597534, 1.2582000494003296, 1.3671000003814697, 1.0713000297546387, 1.1756000518798828, 1.2663999795913696, 0.694599986076355, 0.555400013923645, 0.7861999869346619, 0.8650000095367432, 0.3831999897956848, 0.5521000027656555, 0.7990000247955322, 0.715399980545044, 1.0006999969482422, 0.07800000160932541, 0.6873999834060669, 0.7515000104904175, 0.1289999932050705, 0.1152999997138977, 0.5375000238418579, 0.19949999451637268, 2.0058000087738037, 2.002700090408325, 2.002500057220459, 2.0023000240325928, 2.000699996948242, 1.9967000484466553, 1.9966000318527222, 1.9925999641418457, 1.9890999794006348, 1.9889999628067017, 1.9845000505447388, 1.9837000370025635, 1.9810999631881714, 1.9789999723434448, 1.9771000146865845, 1.969499945640564, 1.968000054359436, 1.9677000045776367, 1.9566999673843384, 1.9558000564575195, 1.9455000162124634, 1.94159996509552, 1.9388999938964844, 1.9342000484466553, 1.929900050163269, 1.927299976348877, 1.9169000387191772, 1.8798999786376953, 1.877500057220459, 1.8717000484466553, 1.8502000570297241, 1.8610999584197998, 1.8216999769210815, 1.8209999799728394, 1.8480000495910645, 1.8372000455856323, 1.7424999475479126, 1.7603000402450562, 1.5978000164031982, 1.6641000509262085, 1.551200032234192, 1.646399974822998, 1.8569999933242798, 1.8665000200271606, 1.5392999649047852, 1.496500015258789, 1.4598000049591064, 1.3535000085830688, 1.3518999814987183, 1.4218000173568726, 1.5635000467300415, 0.8313999772071838, 0.9817000031471252, 1.162600040435791, 1.0669000148773193, 1.336400032043457, 1.3367999792099, 0.8549000024795532, 1.4960999488830566, 0.8205999732017517, 0.1729000061750412, 0.1265999972820282, 0.2054000049829483, 0.6833000183105469, -0.4867999851703644, 0.39959999918937683, 2.7541000843048096, 2.6498000621795654, 2.5917000770568848, 2.5833001136779785, 2.4105000495910645, 2.4079999923706055, 2.407399892807007, 2.4033000469207764, 2.3949999809265137, 2.369800090789795, 2.3436999320983887, 2.3062000274658203, 2.297100067138672, 2.2894999980926514, 2.282599925994873, 2.2599000930786133, 2.2190001010894775, 2.1970999240875244, 2.1547999382019043, 2.1412999629974365, 2.1412999629974365, 2.1314001083374023, 2.1308000087738037, 2.124000072479248, 2.103600025177002, 2.1029999256134033, 2.095099925994873, 2.091399908065796, 2.0736000537872314, 2.070499897003174, 2.0666000843048096, 2.0599000453948975, 2.0536000728607178, 1.9903000593185425, 2.0334999561309814, 1.9075000286102295, 1.8359999656677246, 1.9688999652862549, 1.8070000410079956, 1.885699987411499, 1.957200050354004, 1.9335999488830566, 1.7857999801635742, 1.5693000555038452, 1.6225999593734741, 1.1374000310897827, 1.528499960899353, 1.8473000526428223, 1.0917999744415283, 1.2871999740600586, 0.6656000018119812, 1.5492000579833984, 1.3906999826431274, 0.9455999732017517, 0.3912999927997589, 1.1231000423431396, 1.3601000308990479, 1.0383000373840332, 0.18199999630451202, 0.44130000472068787, 0.6467999815940857, 0.2387000024318695, -0.5569000244140625, 0.5468000173568726, 2.7964000701904297, 2.768699884414673, 2.764899969100952, 2.7572999000549316, 2.737600088119507, 2.7290000915527344, 2.722599983215332, 2.7109999656677246, 2.7088000774383545, 2.6884000301361084, 2.6796998977661133, 2.6249001026153564, 2.592900037765503, 2.585599899291992, 2.5580999851226807, 2.5302000045776367, 2.4814999103546143, 2.473400115966797, 2.46370005607605, 2.4349000453948975, 2.405100107192993, 2.399399995803833, 2.385999917984009, 2.3742001056671143, 2.372499942779541, 2.3687000274658203, 2.3649001121520996, 2.3487000465393066, 2.343100070953369, 2.3371999263763428, 2.329400062561035, 2.325200080871582, 2.325000047683716, 2.2342000007629395, 1.9280999898910522, 2.226599931716919, 2.1912999153137207, 1.9843000173568726, 1.8193999528884888, 1.6440000534057617, 2.077399969100952, 1.8473000526428223, 1.8108999729156494, 1.9408999681472778, 1.6424000263214111, 1.6960999965667725, 1.4218000173568726, 1.6126999855041504, 1.5536999702453613, 1.5870000123977661, 1.4016000032424927, 0.45980000495910645, 0.6761999726295471, 0.958899974822998, 1.2346999645233154, 1.350600004196167, 0.4090000092983246, 0.5343999862670898, 1.399899959564209, 1.4264999628067017, 0.19820000231266022, 1.363700032234192, 0.6758999824523926]}, \"token.table\": {\"Topic\": [1, 2, 3, 4, 5, 1, 2, 3, 4, 3, 1, 2, 3, 4, 1, 2, 3, 4, 5, 1, 2, 3, 4, 2, 5, 1, 3, 4, 5, 1, 2, 3, 4, 5, 2, 2, 5, 2, 5, 1, 2, 1, 2, 3, 4, 1, 1, 2, 4, 2, 2, 3, 5, 1, 2, 1, 2, 1, 2, 3, 4, 2, 3, 1, 2, 3, 4, 1, 2, 3, 4, 1, 2, 3, 4, 1, 2, 3, 4, 1, 3, 4, 1, 3, 4, 5, 1, 2, 3, 4, 3, 5, 1, 2, 3, 4, 5, 1, 3, 4, 1, 3, 5, 1, 1, 2, 3, 4, 5, 2, 1, 2, 3, 4, 5, 1, 3, 5, 1, 3, 4, 5, 1, 4, 1, 2, 1, 4, 5, 1, 3, 4, 5, 1, 2, 3, 4, 1, 2, 3, 4, 5, 1, 2, 3, 4, 5, 1, 3, 4, 5, 1, 2, 3, 1, 2, 3, 4, 1, 2, 3, 4, 5, 1, 4, 5, 1, 2, 3, 4, 5, 1, 4, 5, 1, 2, 3, 4, 5, 1, 5, 1, 3, 4, 2, 5, 2, 1, 2, 3, 4, 5, 1, 1, 2, 3, 1, 3, 4, 5, 2, 3, 4, 5, 2, 3, 5, 1, 3, 4, 5, 1, 3, 4, 2, 3, 1, 2, 3, 4, 5, 1, 1, 4, 1, 1, 1, 5, 2, 3, 2, 1, 2, 3, 1, 2, 1, 3, 4, 1, 4, 1, 2, 3, 5, 1, 2, 3, 4, 5, 1, 4, 3, 4, 5, 1, 5, 1, 2, 3, 4, 5, 1, 3, 4, 5, 1, 2, 3, 4, 5, 1, 2, 5, 2, 3, 1, 2, 3, 5, 1, 3, 3, 4, 1, 2, 3, 4, 5, 2, 3, 2, 3, 1, 4, 5, 2, 3, 3, 1, 4, 5, 1, 2, 3, 4, 5, 1, 2, 3, 4, 1, 2, 3, 4, 5, 2, 2, 2, 3, 1, 3, 4, 1, 2, 1, 2, 3, 4, 5, 1, 3, 4, 1, 3, 4, 5, 1, 3, 4, 5, 1, 3, 5, 1, 2, 3, 4, 5, 3, 1, 2, 3, 4, 5, 1, 2, 3, 4, 5, 1, 1, 2, 3, 4, 3, 1, 1, 2, 3, 5, 1, 3, 3, 5, 1, 4, 3, 1, 2, 3, 4, 5, 1, 3, 4, 5, 1, 3, 5, 1, 3, 4, 5, 1, 2, 3, 5, 3, 1, 2, 3, 4, 5, 1, 2, 3, 4, 5, 1, 1, 2, 4, 2, 2, 3, 4, 5, 1, 2, 3, 4, 5, 1, 3, 4, 5, 1, 2, 3, 4, 5, 3, 4, 1, 2, 3, 4, 5, 1, 2, 3, 4, 1, 2, 5, 1, 3, 4, 5, 3, 2, 3, 4, 5, 1, 2, 3, 4, 5, 1, 4, 2, 3, 4, 1, 2, 3, 4, 5, 2, 3, 4, 5, 1, 4, 3, 4, 5, 1, 2, 3, 4, 5, 1, 2, 3, 4, 5, 3, 1, 2, 5, 2, 3, 4, 5, 1, 2, 3, 5, 1, 2, 3, 4, 5, 1, 2, 3, 4, 5, 1, 3, 4, 5, 1, 2, 3, 4, 5, 1, 2, 3, 4, 5, 3, 4, 2, 5, 2, 2, 1, 2, 3, 4, 5, 1, 3, 1, 2, 1, 2, 3, 4, 5, 2, 3, 4, 5, 1, 3, 4, 1, 2, 3, 4, 5, 1, 3, 4, 5, 2, 5, 1, 2, 3, 4, 1, 2, 3, 4, 1, 3, 5, 1, 2, 3, 4, 5, 3, 4, 2, 3, 3, 4, 5, 1, 2, 3, 4, 5, 1, 2, 3, 4, 5, 1, 2, 3, 4, 3, 1, 5, 1, 2, 3, 4, 1, 4, 1, 2, 3, 3, 5, 3, 5, 1, 3, 5, 1, 2, 3, 4, 5, 1, 2, 3, 4, 5, 1, 3, 5, 1, 3, 4, 5, 1, 2, 1, 2, 3, 4, 3, 1, 5, 1, 1, 2, 3, 4, 5, 1, 2, 4, 5, 3, 5, 1, 2, 3, 4, 1, 1, 1, 1, 2, 3, 5, 1, 2, 3, 5, 1, 2, 3, 4, 5, 1, 2, 3, 5, 1, 2, 4, 1, 3, 5, 1, 5, 1, 3, 4, 1, 5, 2, 1, 2, 3, 4, 5, 1, 2, 3, 4, 5, 1, 3, 4, 5, 1, 3, 4, 1, 3, 5, 1, 2, 1, 2, 3, 4, 5, 1, 2, 3, 4, 1, 3, 4, 5, 2, 3, 5, 2, 1, 3, 4, 5, 3, 4, 5, 1, 2, 1, 3, 4, 1, 2, 4, 5, 1, 2, 3, 4, 5, 3, 1, 2, 5, 2, 3, 5, 1, 5, 1, 3, 4, 1, 3, 4, 1, 2, 3, 4, 5, 1, 1, 2, 3, 4, 5, 1, 3, 4, 2, 1, 2, 3, 4, 5, 1, 2, 3, 1, 2, 3, 4, 5, 1, 2, 3, 4, 1, 1, 2, 3, 4, 5, 1, 2, 3, 4, 5, 1, 2, 3, 4, 5, 1, 2, 3, 4, 5, 1, 4, 5, 3, 4, 1, 2, 3, 4, 5, 1, 2, 3, 4, 5, 2, 3, 4, 5, 1, 2, 3, 4, 5, 1, 2, 3, 4, 5, 2, 3, 4, 5, 3, 1, 2, 1, 2, 1, 2, 3, 4, 5, 2, 3, 4, 5, 1, 2, 3, 4, 5, 1, 2, 3, 4, 5, 1, 2, 3, 4, 5, 1, 3, 4, 5, 3, 1, 2, 3, 4, 5, 1, 2, 3, 4, 5, 2, 3, 1, 1, 2, 3, 4, 5], \"Freq\": [0.8009106516838074, 0.08781450986862183, 0.0687704011797905, 0.04232024773955345, 0.0010580061934888363, 0.5021461248397827, 0.37748339772224426, 0.10718663781881332, 0.012815793976187706, 0.9900200366973877, 0.8567959666252136, 0.04728454351425171, 0.04539316147565842, 0.049175925552845, 0.8816493153572083, 0.049616627395153046, 0.0629749521613121, 0.0019083317602053285, 0.0019083317602053285, 0.8736668825149536, 0.05679669976234436, 0.06347866356372833, 0.0050114733166992664, 0.974894106388092, 0.02215668372809887, 0.056357961148023605, 0.31184738874435425, 0.5109788775444031, 0.12398751825094223, 0.43322327733039856, 0.2608913481235504, 0.0359024815261364, 0.0359024815261364, 0.23216937482357025, 0.9947810769081116, 0.9832311272621155, 0.015126632526516914, 0.09932249039411545, 0.8939023613929749, 0.9926775097846985, 0.9893897175788879, 0.17767661809921265, 0.24430535733699799, 0.02220957726240158, 0.5330298542976379, 0.9990633130073547, 0.009861670434474945, 0.9861670732498169, 0.009861670434474945, 0.9736851453781128, 0.9559886455535889, 0.43946608901023865, 0.5553253293037415, 0.9922652840614319, 0.9771427512168884, 0.0028096295427531004, 0.9974184632301331, 0.7304993271827698, 0.15053419768810272, 0.07351670414209366, 0.045510340481996536, 0.9962980151176453, 0.9846200346946716, 0.20085588097572327, 0.7911575436592102, 0.004599753301590681, 0.003066502045840025, 0.9987336993217468, 0.9892659187316895, 0.10866554081439972, 0.8910574316978455, 0.9918431639671326, 0.9817635416984558, 0.1670892834663391, 0.8319653868675232, 0.07693943381309509, 0.23081830143928528, 0.09617429226636887, 0.5962806344032288, 0.9994993209838867, 0.006867740768939257, 0.9820869565010071, 0.12163139134645462, 0.18797579407691956, 0.5749847888946533, 0.11057399213314056, 0.29934147000312805, 0.10666190832853317, 0.13418756425380707, 0.4576139748096466, 0.9084001183509827, 0.08183784782886505, 0.5643728971481323, 0.03149988129734993, 0.015749940648674965, 0.02099992148578167, 0.36749863624572754, 0.2827107310295105, 0.1739758402109146, 0.5393251180648804, 0.013684658333659172, 0.9716107249259949, 0.013684658333659172, 0.9973958134651184, 0.14126120507717133, 0.14126120507717133, 0.2236635833978653, 0.49441421031951904, 0.011771767400205135, 0.990126371383667, 0.3232108950614929, 0.10305274277925491, 0.014052647165954113, 0.14521068334579468, 0.41689521074295044, 0.055946800857782364, 0.8392020463943481, 0.09790690243244171, 0.9220418930053711, 0.01941140741109848, 0.014558556489646435, 0.041249241679906845, 0.9920631647109985, 0.007294582203030586, 0.9949098825454712, 0.004306969232857227, 0.2719196379184723, 0.04531993716955185, 0.6344791054725647, 0.015004721470177174, 0.2700849771499634, 0.060018885880708694, 0.6301982998847961, 0.17753754556179047, 0.2663063108921051, 0.04438438639044762, 0.4882282614707947, 0.6049254536628723, 0.0439782589673996, 0.20014595985412598, 0.0978291928768158, 0.0538509301841259, 0.0021552222315222025, 0.01724177785217762, 0.5775995850563049, 0.12284766882658005, 0.2823341190814972, 0.008351538330316544, 0.3674677014350891, 0.4760376811027527, 0.14197614789009094, 0.9963541030883789, 0.7679423093795776, 0.23170673847198486, 0.2821149230003357, 0.0025415760464966297, 0.625227689743042, 0.08895515650510788, 0.0035678106360137463, 0.12487336993217468, 0.46738317608833313, 0.37462010979652405, 0.032110296189785004, 0.34512537717819214, 0.6135562062263489, 0.9920637607574463, 0.5379692912101746, 0.07318884879350662, 0.16451852023601532, 0.1219814121723175, 0.10196394473314285, 0.9702070951461792, 0.010395076125860214, 0.017325127497315407, 0.836014986038208, 0.014602881856262684, 0.026771949604153633, 0.09370182454586029, 0.029205763712525368, 0.6326609253883362, 0.36378005146980286, 0.0940028727054596, 0.4534256160259247, 0.4478960335254669, 0.045916058123111725, 0.9183211326599121, 0.9539060592651367, 0.14498433470726013, 0.07879583537578583, 0.6965551376342773, 0.02836649864912033, 0.0504293330013752, 0.9939073324203491, 0.003978302236646414, 0.855334997177124, 0.1392405778169632, 0.9933928847312927, 0.9247386455535889, 0.03128815069794655, 0.04519399628043175, 0.02184469811618328, 0.7072221040725708, 0.24575285613536835, 0.024575285613536835, 0.9523398280143738, 0.028217477723956108, 0.014108738861978054, 0.277997761964798, 0.05751677602529526, 0.6135122776031494, 0.04793064668774605, 0.9976415038108826, 0.8860697746276855, 0.08860697597265244, 0.9482201337814331, 0.05112951621413231, 0.06218615546822548, 0.0256060641258955, 0.599913477897644, 0.06218615546822548, 0.2524026334285736, 0.9910397529602051, 0.9911845326423645, 0.007845787331461906, 0.997326672077179, 0.9980625510215759, 0.994430661201477, 0.0038844947703182697, 0.111930251121521, 0.8730559349060059, 0.9846225380897522, 0.021596940234303474, 0.10798469930887222, 0.8638775944709778, 0.9663699865341187, 0.031569257378578186, 0.2311640828847885, 0.16511720418930054, 0.6274453401565552, 0.9826212525367737, 0.01734037511050701, 0.08126033842563629, 0.8126034140586853, 0.0650082677602768, 0.040630169212818146, 0.2208341658115387, 0.09973155707120895, 0.1994631141424179, 0.4416683316230774, 0.035618413239717484, 0.4638122320175171, 0.5300710797309875, 0.19866147637367249, 0.008277561515569687, 0.7918867468833923, 0.37176984548568726, 0.6261386871337891, 0.0012796904193237424, 0.8650707602500916, 0.021754737943410873, 0.006398452445864677, 0.10749399662017822, 0.5208994746208191, 0.3581823706626892, 0.09517417103052139, 0.026607831940054893, 0.5132527351379395, 0.29907289147377014, 0.1269502192735672, 0.02725924924015999, 0.03426877036690712, 0.9544075727462769, 0.010207568295300007, 0.03572648763656616, 0.8882982730865479, 0.10767251998186111, 0.9292240738868713, 0.03959100320935249, 0.006986647378653288, 0.023288823664188385, 0.11062784492969513, 0.8628971576690674, 0.9625654220581055, 0.035359546542167664, 0.0063615525141358376, 0.955081045627594, 0.0339282788336277, 0.0012723105028271675, 0.0038169315084815025, 0.9224389791488647, 0.07602518796920776, 0.9776961803436279, 0.01777629368007183, 0.9180160760879517, 0.036225851625204086, 0.04506142437458038, 0.9716480374336243, 0.021354902535676956, 0.9901292324066162, 0.14038769900798798, 0.5334732532501221, 0.3088529109954834, 0.40992313623428345, 0.02240017242729664, 0.16800129413604736, 0.15904122591018677, 0.24192185699939728, 0.023211270570755005, 0.9748733639717102, 0.4739866852760315, 0.505585789680481, 0.27446267008781433, 0.4088933765888214, 0.22265084087848663, 0.07561726868152618, 0.016803836449980736, 0.9955134391784668, 0.996003270149231, 0.9775781631469727, 0.0205805916339159, 0.3658692240715027, 0.09544414281845093, 0.5249427556991577, 0.991984486579895, 0.006048685871064663, 0.25469356775283813, 0.11627314984798431, 0.011073633097112179, 0.005536816548556089, 0.6090498566627502, 0.24713437259197235, 0.04942687600851059, 0.6919762492179871, 0.046567343175411224, 0.06985101848840714, 0.6985101699829102, 0.1862693727016449, 0.2475261390209198, 0.07334107905626297, 0.036670539528131485, 0.6417344212532043, 0.25126442313194275, 0.031408052891492844, 0.690977156162262, 0.29954037070274353, 0.10990329831838608, 0.21980659663677216, 0.062494032084941864, 0.3081602156162262, 0.9907114505767822, 0.0349058099091053, 0.01611037366092205, 0.3732236623764038, 0.2523958384990692, 0.324892520904541, 0.0025284874718636274, 0.0025284874718636274, 0.252848744392395, 0.4981120526790619, 0.24526329338550568, 0.9972615242004395, 0.9763655066490173, 0.00318034365773201, 0.01272137463092804, 0.00954103097319603, 0.9825842380523682, 0.9927269816398621, 0.08371540158987045, 0.020928850397467613, 0.07325097918510437, 0.826689600944519, 1.0002326965332031, 0.9585781097412109, 0.33392345905303955, 0.6502719521522522, 0.9924010634422302, 0.008247099816799164, 0.9824174046516418, 0.6919391751289368, 0.19564184546470642, 0.07840058952569962, 0.0280515868216753, 0.0050349002704024315, 0.8702741265296936, 0.007580784615129232, 0.06367859244346619, 0.05761396512389183, 0.2210710048675537, 0.012281722389161587, 0.773748517036438, 0.29122090339660645, 0.02971641719341278, 0.06537611782550812, 0.6121582388877869, 0.9987834095954895, 0.11108066886663437, 0.2360464334487915, 0.6525989770889282, 0.9595791697502136, 0.2748429477214813, 0.03664572536945343, 0.10077574104070663, 0.054968588054180145, 0.5313630104064941, 0.20325225591659546, 0.5019714832305908, 0.17758908867835999, 0.034901902079582214, 0.08212212473154068, 0.9957431554794312, 0.9396266937255859, 0.03737151622772217, 0.021355152130126953, 0.991409182548523, 0.02240964211523533, 0.9367230534553528, 0.03137350082397461, 0.004481928423047066, 0.6412686109542847, 0.10989725589752197, 0.08332868665456772, 0.07849804311990738, 0.08574401587247849, 0.019800353795289993, 0.7801339626312256, 0.003960070665925741, 0.19800354540348053, 0.390903115272522, 0.21027252078056335, 0.17507271468639374, 0.06854698807001114, 0.15562020242214203, 0.9210258722305298, 0.06351902335882187, 0.3625726103782654, 0.15117433667182922, 0.30480679869651794, 0.09217947721481323, 0.08972135931253433, 0.6421179175376892, 0.03884267061948776, 0.26582953333854675, 0.05219483748078346, 0.28649064898490906, 0.09549687802791595, 0.6087926030158997, 0.15438972413539886, 0.638422429561615, 0.045899648219347, 0.15856242179870605, 0.9607588648796082, 0.15573067963123322, 0.8287096619606018, 0.01112361904233694, 0.002780904760584235, 0.2730437219142914, 0.14863918721675873, 0.2229587882757187, 0.30212530493736267, 0.05654751509428024, 0.9877128601074219, 0.011455432511866093, 0.011519182473421097, 0.9474527835845947, 0.04031714051961899, 0.6931228041648865, 0.07505150884389877, 0.11147356778383255, 0.08277740329504013, 0.03752575442194939, 0.5041858553886414, 0.09388288855552673, 0.020862864330410957, 0.3790087103843689, 0.9893013834953308, 0.011033101007342339, 0.4120880663394928, 0.48935458064079285, 0.09014426171779633, 0.7268292307853699, 0.060485560446977615, 0.0825410708785057, 0.03609083220362663, 0.09457134455442429, 0.40090468525886536, 0.365165114402771, 0.17559003829956055, 0.027970094233751297, 0.031077882274985313, 0.9807927012443542, 0.04022017866373062, 0.32176142930984497, 0.6435228586196899, 0.34184756875038147, 0.38987573981285095, 0.019776305183768272, 0.24720382690429688, 0.0153728649020195, 0.061491459608078, 0.030745729804039, 0.8916261792182922, 0.19448690116405487, 0.27724727988243103, 0.06207028776407242, 0.4138019382953644, 0.049656230956315994, 0.11791657656431198, 0.0021439376287162304, 0.4180678427219391, 0.4223557412624359, 0.03859087824821472, 0.0022790194489061832, 0.5993821024894714, 0.10027685016393661, 0.2985515296459198, 0.5214526057243347, 0.18623307347297668, 0.15204782783985138, 0.09286142140626907, 0.047451168298721313, 0.4862283766269684, 0.35197970271110535, 0.12409541010856628, 0.029331643134355545, 0.00789698027074337, 0.9644454121589661, 0.018910694867372513, 0.9811135530471802, 0.022298036143183708, 0.9922650456428528, 0.9641537070274353, 0.35761576890945435, 0.23507609963417053, 0.20506638288497925, 0.16130220890045166, 0.04001295194029808, 0.9859053492546082, 0.014084361493587494, 0.9959054589271545, 0.006509185768663883, 0.4402138888835907, 0.25262579321861267, 0.15963800251483917, 0.07525023818016052, 0.07256273180246353, 0.1372973471879959, 0.24789799749851227, 0.3813815414905548, 0.23073582351207733, 0.10325749963521957, 0.8481866121292114, 0.044253215193748474, 0.316863089799881, 0.05281051620841026, 0.07921577244997025, 0.5281051397323608, 0.05281051620841026, 0.2957264184951782, 0.052573587745428085, 0.4337320923805237, 0.21686604619026184, 0.9819344878196716, 0.011830535717308521, 0.9726908206939697, 0.001239096513018012, 0.013630062341690063, 0.013630062341690063, 0.002825387055054307, 0.20342786610126495, 0.7656798958778381, 0.028253870084881783, 0.007792069111019373, 0.04675241559743881, 0.9506324529647827, 0.3277146816253662, 0.051051028072834015, 0.30795297026634216, 0.19542114436626434, 0.11747226119041443, 0.8523039221763611, 0.14585819840431213, 0.053664445877075195, 0.9257116913795471, 0.38421040773391724, 0.059109292924404144, 0.551686704158783, 0.8402345776557922, 0.029728969559073448, 0.05632857605814934, 0.0516345277428627, 0.023470239713788033, 0.1493396908044815, 0.701549232006073, 0.05383174866437912, 0.04167619347572327, 0.05383174866437912, 0.09522869437932968, 0.6050505638122559, 0.2078772634267807, 0.09174471348524094, 0.9926187992095947, 0.05288410931825638, 0.9342859387397766, 0.16960951685905457, 0.14134126901626587, 0.05653650686144829, 0.6219015717506409, 0.9884775280952454, 0.00909641943871975, 0.00784867350012064, 0.9575381875038147, 0.03139469400048256, 0.9447586536407471, 0.03374138101935387, 0.06848933547735214, 0.9246059656143188, 0.008524985052645206, 0.8269235491752625, 0.1619747132062912, 0.4912819266319275, 0.010527470149099827, 0.07369229197502136, 0.29476916790008545, 0.12632964551448822, 0.13087204098701477, 0.22902606427669525, 0.0777052715420723, 0.13087204098701477, 0.4335136115550995, 0.04894919693470001, 0.19579678773880005, 0.6852887868881226, 0.9988523721694946, 0.09370611608028412, 0.7027958631515503, 0.1991254836320877, 0.005010908003896475, 0.9921597242355347, 0.1935938596725464, 0.676252543926239, 0.1140347421169281, 0.015911825001239777, 0.9818545579910278, 0.07688731700181961, 0.9226477742195129, 0.9977936744689941, 0.6082895994186401, 0.003505992004647851, 0.15776963531970978, 0.19282956421375275, 0.03856591135263443, 0.22002793848514557, 0.02588563971221447, 0.012942819856107235, 0.7506835460662842, 0.3238504230976105, 0.6656925082206726, 0.43066275119781494, 0.019575579091906548, 0.05872673913836479, 0.48938947916030884, 0.993034303188324, 0.9985609650611877, 0.9962781071662903, 0.6104108095169067, 0.29481542110443115, 0.09091224521398544, 0.005194985773414373, 0.0060078599490225315, 0.8471082448959351, 0.1021336168050766, 0.04205501824617386, 0.6234286427497864, 0.14468392729759216, 0.11059609055519104, 0.05681305751204491, 0.06438813358545303, 0.042985085397958755, 0.08597017079591751, 0.1504478007555008, 0.7092539072036743, 0.244760200381279, 0.19580815732479095, 0.5874244570732117, 0.032920029014348984, 0.9217608571052551, 0.045265041291713715, 0.9669884443283081, 0.02897343598306179, 0.39219439029693604, 0.5563040971755981, 0.05284889042377472, 0.18887369334697723, 0.7974667549133301, 0.9796554446220398, 0.24688231945037842, 0.0011645392514765263, 0.31559011340141296, 0.393614262342453, 0.043087951838970184, 0.17614072561264038, 0.1281023472547531, 0.03202558681368828, 0.048038382083177567, 0.6244989633560181, 0.9945040345191956, 0.04896703362464905, 0.04896703362464905, 0.8977289199829102, 0.4334051012992859, 0.06667771190404892, 0.5000828504562378, 0.12542253732681274, 0.22994132339954376, 0.6271126866340637, 0.9960868954658508, 0.006073700729757547, 0.002573475008830428, 0.01286737434566021, 0.5095480680465698, 0.18014325201511383, 0.29080265760421753, 0.10908890515565872, 0.02727222628891468, 0.02727222628891468, 0.8318029046058655, 0.00578219722956419, 0.5184703469276428, 0.06553156673908234, 0.410535991191864, 0.6098116040229797, 0.37632516026496887, 0.010987595655024052, 0.957197368144989, 0.27121037244796753, 0.19183172285556793, 0.06614886969327927, 0.4762718677520752, 0.8586852550506592, 0.1022244393825531, 0.03066733106970787, 0.10006703436374664, 0.9006033539772034, 0.20700189471244812, 0.088715098798275, 0.6801490783691406, 0.04175806790590286, 0.9300660490989685, 0.0037961879279464483, 0.022777127102017403, 0.8813316822052002, 0.029686961323022842, 0.020409785211086273, 0.012988045811653137, 0.05566305294632912, 0.9841051697731018, 0.12391918897628784, 0.010326598770916462, 0.8674343228340149, 0.8655112981796265, 0.0041214823722839355, 0.13188743591308594, 0.041209764778614044, 0.9478246569633484, 0.030513165518641472, 0.3051316440105438, 0.6712896227836609, 0.29956546425819397, 0.29956546425819397, 0.3973827660083771, 0.13548339903354645, 0.015053709968924522, 0.42819443345069885, 0.11206650733947754, 0.3094373643398285, 0.9985822439193726, 0.0012262988602742553, 0.16187144815921783, 0.6622013449668884, 0.12017728388309479, 0.055183447897434235, 0.10156488418579102, 0.20312976837158203, 0.6906412243843079, 0.9830973148345947, 0.5310429334640503, 0.2995941638946533, 0.11541742086410522, 0.04665810614824295, 0.0073670693673193455, 0.01757906749844551, 0.9778355956077576, 0.002197383437305689, 0.7431597709655762, 0.0632704570889473, 0.06434284150600433, 0.05898093432188034, 0.06970474123954773, 0.2776797413825989, 0.5571169853210449, 0.0913882702589035, 0.07205613702535629, 0.9991838932037354, 0.00507954740896821, 0.2565171420574188, 0.40128424763679504, 0.3174717128276825, 0.02031818963587284, 0.6706765294075012, 0.1930004358291626, 0.09891272336244583, 0.028145896270871162, 0.00965002179145813, 0.6976637840270996, 0.08244180679321289, 0.08089601993560791, 0.048949822783470154, 0.08965546637773514, 0.4971567392349243, 0.19745942950248718, 0.11526820063591003, 0.18743611872196198, 0.0030069963540881872, 0.2771057188510895, 0.03575557470321655, 0.6793559193611145, 0.9338089823722839, 0.03591573238372803, 0.16127683222293854, 0.058961421251297, 0.5185136795043945, 0.176884263753891, 0.08323965221643448, 0.25132861733436584, 0.042532533407211304, 0.36925971508026123, 0.09279825538396835, 0.2416621297597885, 0.0164011362940073, 0.6323549151420593, 0.22779354453086853, 0.12391968816518784, 0.08094365149736404, 0.07824552804231644, 0.5099449753761292, 0.19426476955413818, 0.1349060833454132, 0.9972350597381592, 0.46844610571861267, 0.40882566571235657, 0.11711152642965317, 0.006387901026755571, 0.28263649344444275, 0.04037664085626602, 0.6594851613044739, 0.013458880595862865, 0.9952368140220642, 0.9849714636802673, 0.013074842281639576, 0.9957135319709778, 0.0028777848929166794, 0.3178730309009552, 0.24181054532527924, 0.2134290337562561, 0.10784977674484253, 0.11693186312913895, 0.0330304317176342, 0.41995835304260254, 0.5143309831619263, 0.028311798349022865, 0.02814316935837269, 0.11257267743349075, 0.3236464560031891, 0.28846749663352966, 0.24859799444675446, 0.6759167909622192, 0.20180250704288483, 0.048627108335494995, 0.04254871979355812, 0.03160762041807175, 0.42081862688064575, 0.3827928304672241, 0.08238919079303741, 0.051968563348054886, 0.06210877373814583, 0.06848037242889404, 0.861711323261261, 0.005706697702407837, 0.0627736747264862, 0.9933509826660156, 0.42203664779663086, 0.11810727417469025, 0.1999949812889099, 0.053541962057352066, 0.20471927523612976, 0.44654014706611633, 0.34440597891807556, 0.08154899626970291, 0.07996552437543869, 0.04750427231192589, 0.8666656017303467, 0.131460502743721, 0.9974071383476257, 0.7773757576942444, 0.12474661320447922, 0.052153948694467545, 0.03312480449676514, 0.012686096131801605], \"Term\": [\"1\", \"1\", \"1\", \"1\", \"1\", \"2\", \"2\", \"2\", \"2\", \"3g\", \"4\", \"4\", \"4\", \"4\", \"5\", \"5\", \"5\", \"5\", \"5\", \"6\", \"6\", \"6\", \"6\", \"academy\", \"academy\", \"access\", \"access\", \"access\", \"access\", \"action\", \"action\", \"action\", \"action\", \"action\", \"actor\", \"actress\", \"actress\", \"adaptation\", \"adaptation\", \"administration\", \"adventure\", \"aged\", \"aged\", \"aged\", \"aged\", \"agreement\", \"album\", \"album\", \"album\", \"angeles\", \"animated\", \"apple\", \"apple\", \"argued\", \"aviator\", \"award\", \"award\", \"back\", \"back\", \"back\", \"back\", \"bafta\", \"battery\", \"best\", \"best\", \"best\", \"best\", \"blair\", \"blockbuster\", \"blog\", \"blog\", \"blunkett\", \"brit\", \"broadband\", \"broadband\", \"broadcaster\", \"broadcaster\", \"broadcaster\", \"broadcaster\", \"brown\", \"bt\", \"bt\", \"cable\", \"cable\", \"cable\", \"cable\", \"call\", \"call\", \"call\", \"call\", \"camera\", \"camera\", \"campaign\", \"campaign\", \"campaign\", \"campaign\", \"campaign\", \"card\", \"card\", \"card\", \"cell\", \"cell\", \"cell\", \"chancellor\", \"channel\", \"channel\", \"channel\", \"channel\", \"channel\", \"chart\", \"child\", \"child\", \"child\", \"child\", \"child\", \"chip\", \"chip\", \"chip\", \"claim\", \"claim\", \"claim\", \"claim\", \"club\", \"club\", \"coach\", \"coach\", \"college\", \"college\", \"college\", \"colour\", \"colour\", \"colour\", \"colour\", \"commissioned\", \"commissioned\", \"commissioned\", \"commissioned\", \"company\", \"company\", \"company\", \"company\", \"company\", \"computer\", \"computer\", \"computer\", \"computer\", \"computer\", \"connection\", \"connection\", \"connection\", \"connection\", \"conservative\", \"console\", \"console\", \"consumer\", \"consumer\", \"consumer\", \"consumer\", \"content\", \"content\", \"content\", \"content\", \"content\", \"conversation\", \"conversation\", \"copyright\", \"could\", \"could\", \"could\", \"could\", \"could\", \"council\", \"council\", \"council\", \"country\", \"country\", \"country\", \"country\", \"country\", \"court\", \"court\", \"customer\", \"customer\", \"customer\", \"dan\", \"dan\", \"dance\", \"data\", \"data\", \"data\", \"data\", \"data\", \"deficit\", \"definition\", \"definition\", \"definition\", \"denied\", \"device\", \"device\", \"device\", \"digital\", \"digital\", \"digital\", \"digital\", \"disc\", \"disc\", \"disc\", \"document\", \"document\", \"document\", \"document\", \"domestic\", \"downloads\", \"downloads\", \"dvd\", \"dvd\", \"e\", \"e\", \"e\", \"e\", \"e\", \"east\", \"economic\", \"economic\", \"economist\", \"economy\", \"election\", \"election\", \"electronics\", \"electronics\", \"elvis\", \"engine\", \"engine\", \"engine\", \"england\", \"england\", \"equivalent\", \"equivalent\", \"equivalent\", \"eu\", \"eu\", \"fan\", \"fan\", \"fan\", \"fan\", \"fast\", \"fast\", \"fast\", \"fast\", \"fast\", \"fierce\", \"fierce\", \"file\", \"file\", \"file\", \"filed\", \"filed\", \"film\", \"film\", \"film\", \"film\", \"film\", \"firm\", \"firm\", \"firm\", \"firm\", \"first\", \"first\", \"first\", \"first\", \"first\", \"foreign\", \"foreign\", \"foreign\", \"format\", \"format\", \"former\", \"former\", \"former\", \"former\", \"function\", \"function\", \"gadget\", \"gadget\", \"game\", \"game\", \"game\", \"game\", \"game\", \"gamers\", \"gamers\", \"genre\", \"genre\", \"government\", \"government\", \"government\", \"halo\", \"halo\", \"handset\", \"harm\", \"harm\", \"harm\", \"help\", \"help\", \"help\", \"help\", \"help\", \"hero\", \"hero\", \"hi\", \"hi\", \"high\", \"high\", \"high\", \"high\", \"high\", \"hip\", \"hollywood\", \"hop\", \"hop\", \"household\", \"household\", \"household\", \"howard\", \"howard\", \"human\", \"human\", \"human\", \"human\", \"human\", \"id\", \"id\", \"id\", \"identity\", \"identity\", \"identity\", \"identity\", \"illegal\", \"illegal\", \"illegal\", \"illegal\", \"illegally\", \"illegally\", \"illegally\", \"industry\", \"industry\", \"industry\", \"industry\", \"industry\", \"infected\", \"information\", \"information\", \"information\", \"information\", \"information\", \"internet\", \"internet\", \"internet\", \"internet\", \"internet\", \"investor\", \"ireland\", \"ireland\", \"ireland\", \"ireland\", \"itunes\", \"johnson\", \"journalist\", \"journalist\", \"journalist\", \"journalist\", \"kennedy\", \"keyboard\", \"lab\", \"lab\", \"labour\", \"labour\", \"laptop\", \"last\", \"last\", \"last\", \"last\", \"last\", \"law\", \"law\", \"law\", \"law\", \"lawsuit\", \"lawsuit\", \"lawsuit\", \"legal\", \"legal\", \"legal\", \"legal\", \"lib\", \"library\", \"library\", \"library\", \"lifestyle\", \"light\", \"light\", \"light\", \"light\", \"light\", \"like\", \"like\", \"like\", \"like\", \"like\", \"liverpool\", \"lord\", \"lord\", \"lord\", \"los\", \"machine\", \"machine\", \"machine\", \"machine\", \"made\", \"made\", \"made\", \"made\", \"made\", \"mail\", \"mail\", \"mail\", \"mail\", \"make\", \"make\", \"make\", \"make\", \"make\", \"malicious\", \"malicious\", \"many\", \"many\", \"many\", \"many\", \"many\", \"market\", \"market\", \"market\", \"market\", \"material\", \"material\", \"material\", \"message\", \"message\", \"message\", \"message\", \"messaging\", \"microsoft\", \"microsoft\", \"microsoft\", \"microsoft\", \"million\", \"million\", \"million\", \"million\", \"million\", \"minister\", \"minister\", \"mobile\", \"mobile\", \"mobile\", \"month\", \"month\", \"month\", \"month\", \"month\", \"movie\", \"movie\", \"movie\", \"movie\", \"mp\", \"mp\", \"mp3\", \"mp3\", \"mp3\", \"mr\", \"mr\", \"mr\", \"mr\", \"mr\", \"much\", \"much\", \"much\", \"much\", \"much\", \"multimedia\", \"murder\", \"murder\", \"murder\", \"music\", \"music\", \"music\", \"music\", \"musician\", \"musician\", \"musician\", \"musician\", \"name\", \"name\", \"name\", \"name\", \"name\", \"net\", \"net\", \"net\", \"net\", \"net\", \"network\", \"network\", \"network\", \"network\", \"new\", \"new\", \"new\", \"new\", \"new\", \"next\", \"next\", \"next\", \"next\", \"next\", \"nokia\", \"nokia\", \"nominated\", \"nominated\", \"nomination\", \"nominee\", \"number\", \"number\", \"number\", \"number\", \"number\", \"oil\", \"oil\", \"olympic\", \"olympic\", \"one\", \"one\", \"one\", \"one\", \"one\", \"online\", \"online\", \"online\", \"online\", \"operator\", \"operator\", \"operator\", \"ordinary\", \"ordinary\", \"ordinary\", \"ordinary\", \"ordinary\", \"organisation\", \"organisation\", \"organisation\", \"organisation\", \"oscar\", \"oscar\", \"party\", \"party\", \"party\", \"party\", \"pc\", \"pc\", \"pc\", \"pc\", \"peer\", \"peer\", \"peer\", \"people\", \"people\", \"people\", \"people\", \"people\", \"phone\", \"phone\", \"photo\", \"photo\", \"piracy\", \"piracy\", \"piracy\", \"plan\", \"plan\", \"plan\", \"plan\", \"plan\", \"play\", \"play\", \"play\", \"play\", \"play\", \"player\", \"player\", \"player\", \"player\", \"portable\", \"poster\", \"poster\", \"premium\", \"premium\", \"premium\", \"premium\", \"prime\", \"prime\", \"prize\", \"prize\", \"prize\", \"processor\", \"processor\", \"professor\", \"professor\", \"program\", \"program\", \"program\", \"programme\", \"programme\", \"programme\", \"programme\", \"programme\", \"project\", \"project\", \"project\", \"project\", \"project\", \"promote\", \"promote\", \"promote\", \"prosecutor\", \"provider\", \"provider\", \"provider\", \"ray\", \"ray\", \"really\", \"really\", \"really\", \"really\", \"recorder\", \"reference\", \"reference\", \"reform\", \"report\", \"report\", \"report\", \"report\", \"report\", \"reporter\", \"reporter\", \"reporter\", \"reporter\", \"researcher\", \"researcher\", \"respond\", \"respond\", \"respond\", \"respond\", \"robinson\", \"rugby\", \"russia\", \"sale\", \"sale\", \"sale\", \"sale\", \"san\", \"san\", \"san\", \"san\", \"say\", \"say\", \"say\", \"say\", \"say\", \"science\", \"science\", \"science\", \"science\", \"sea\", \"sea\", \"sea\", \"search\", \"search\", \"search\", \"secretary\", \"secretary\", \"security\", \"security\", \"security\", \"sentence\", \"sentence\", \"sequel\", \"service\", \"service\", \"service\", \"service\", \"service\", \"shared\", \"shared\", \"shared\", \"shared\", \"shared\", \"shareholder\", \"sharing\", \"sharing\", \"sharing\", \"shift\", \"shift\", \"shift\", \"shut\", \"shut\", \"shut\", \"sir\", \"sir\", \"site\", \"site\", \"site\", \"site\", \"site\", \"sky\", \"sky\", \"sky\", \"sky\", \"software\", \"software\", \"software\", \"software\", \"sony\", \"sony\", \"sony\", \"soul\", \"source\", \"source\", \"source\", \"source\", \"spam\", \"spam\", \"spam\", \"spanish\", \"spanish\", \"spokesperson\", \"spokesperson\", \"spokesperson\", \"star\", \"star\", \"star\", \"star\", \"state\", \"state\", \"state\", \"state\", \"state\", \"storage\", \"student\", \"student\", \"student\", \"studio\", \"studio\", \"studio\", \"studying\", \"studying\", \"subscriber\", \"subscriber\", \"subscriber\", \"survey\", \"survey\", \"survey\", \"system\", \"system\", \"system\", \"system\", \"system\", \"tax\", \"technology\", \"technology\", \"technology\", \"technology\", \"technology\", \"telephone\", \"telephone\", \"telephone\", \"theatre\", \"time\", \"time\", \"time\", \"time\", \"time\", \"title\", \"title\", \"title\", \"told\", \"told\", \"told\", \"told\", \"told\", \"top\", \"top\", \"top\", \"top\", \"tory\", \"tv\", \"tv\", \"tv\", \"tv\", \"tv\", \"two\", \"two\", \"two\", \"two\", \"two\", \"u\", \"u\", \"u\", \"u\", \"u\", \"uk\", \"uk\", \"uk\", \"uk\", \"uk\", \"university\", \"university\", \"university\", \"upgrade\", \"upgrade\", \"use\", \"use\", \"use\", \"use\", \"use\", \"used\", \"used\", \"used\", \"used\", \"used\", \"user\", \"user\", \"user\", \"user\", \"using\", \"using\", \"using\", \"using\", \"using\", \"v\", \"video\", \"video\", \"video\", \"video\", \"viewer\", \"viewer\", \"viewer\", \"viewer\", \"virus\", \"vote\", \"vote\", \"wale\", \"wale\", \"way\", \"way\", \"way\", \"way\", \"way\", \"web\", \"web\", \"web\", \"web\", \"website\", \"website\", \"website\", \"website\", \"website\", \"week\", \"week\", \"week\", \"week\", \"week\", \"well\", \"well\", \"well\", \"well\", \"well\", \"window\", \"window\", \"window\", \"window\", \"wireless\", \"work\", \"work\", \"work\", \"work\", \"work\", \"world\", \"world\", \"world\", \"world\", \"world\", \"xbox\", \"xbox\", \"yukos\", \"\\u00e2\", \"\\u00e2\", \"\\u00e2\", \"\\u00e2\", \"\\u00e2\"]}, \"R\": 30, \"lambda.step\": 0.01, \"plot.opts\": {\"xlab\": \"PC1\", \"ylab\": \"PC2\"}, \"topic.order\": [5, 3, 1, 2, 4]};\n",
       "\n",
       "function LDAvis_load_lib(url, callback){\n",
       "  var s = document.createElement('script');\n",
       "  s.src = url;\n",
       "  s.async = true;\n",
       "  s.onreadystatechange = s.onload = callback;\n",
       "  s.onerror = function(){console.warn(\"failed to load library \" + url);};\n",
       "  document.getElementsByTagName(\"head\")[0].appendChild(s);\n",
       "}\n",
       "\n",
       "if(typeof(LDAvis) !== \"undefined\"){\n",
       "   // already loaded: just create the visualization\n",
       "   !function(LDAvis){\n",
       "       new LDAvis(\"#\" + \"ldavis_el51931404566917807363875529874\", ldavis_el51931404566917807363875529874_data);\n",
       "   }(LDAvis);\n",
       "}else if(typeof define === \"function\" && define.amd){\n",
       "   // require.js is available: use it to load d3/LDAvis\n",
       "   require.config({paths: {d3: \"https://cdnjs.cloudflare.com/ajax/libs/d3/3.5.5/d3.min\"}});\n",
       "   require([\"d3\"], function(d3){\n",
       "      window.d3 = d3;\n",
       "      LDAvis_load_lib(\"https://cdn.rawgit.com/bmabey/pyLDAvis/files/ldavis.v1.0.0.js\", function(){\n",
       "        new LDAvis(\"#\" + \"ldavis_el51931404566917807363875529874\", ldavis_el51931404566917807363875529874_data);\n",
       "      });\n",
       "    });\n",
       "}else{\n",
       "    // require.js not available: dynamically load d3 & LDAvis\n",
       "    LDAvis_load_lib(\"https://cdnjs.cloudflare.com/ajax/libs/d3/3.5.5/d3.min.js\", function(){\n",
       "         LDAvis_load_lib(\"https://cdn.rawgit.com/bmabey/pyLDAvis/files/ldavis.v1.0.0.js\", function(){\n",
       "                 new LDAvis(\"#\" + \"ldavis_el51931404566917807363875529874\", ldavis_el51931404566917807363875529874_data);\n",
       "            })\n",
       "         });\n",
       "}\n",
       "</script>"
      ],
      "text/plain": [
       "PreparedData(topic_coordinates=          x     y  topics  cluster  Freq\n",
       "topic                                   \n",
       "4     -0.06 -0.10       1        1 57.15\n",
       "2     -0.18  0.08       2        1 17.20\n",
       "0      0.03  0.00       3        1 13.41\n",
       "1      0.07 -0.11       4        1  6.27\n",
       "3      0.14  0.12       5        1  5.97, topic_info=         Term     Freq    Total Category  logprob  loglift\n",
       "2052     game 2,357.00 2,357.00  Default    30.00    30.00\n",
       "219    people 1,821.00 1,821.00  Default    29.00    29.00\n",
       "212        mr 2,992.00 2,992.00  Default    28.00    28.00\n",
       "100   service   858.00   858.00  Default    27.00    27.00\n",
       "510    mobile   694.00   694.00  Default    26.00    26.00\n",
       "...       ...      ...      ...      ...      ...      ...\n",
       "798      help   107.99   446.43   Topic5    -5.34     1.40\n",
       "1095  website   105.92   426.39   Topic5    -5.36     1.43\n",
       "467       one   135.32 1,860.46   Topic5    -5.12     0.20\n",
       "998    action    97.47   417.80   Topic5    -5.44     1.36\n",
       "257       way   103.30   880.85   Topic5    -5.39     0.68\n",
       "\n",
       "[374 rows x 6 columns], token_table=      Topic  Freq Term\n",
       "term                  \n",
       "265       1  0.80    1\n",
       "265       2  0.09    1\n",
       "265       3  0.07    1\n",
       "265       4  0.04    1\n",
       "265       5  0.00    1\n",
       "...     ...   ...  ...\n",
       "481       1  0.78    â\n",
       "481       2  0.12    â\n",
       "481       3  0.05    â\n",
       "481       4  0.03    â\n",
       "481       5  0.01    â\n",
       "\n",
       "[908 rows x 3 columns], R=30, lambda_step=0.01, plot_opts={'xlab': 'PC1', 'ylab': 'PC2'}, topic_order=[5, 3, 1, 2, 4])"
      ]
     },
     "execution_count": 31,
     "metadata": {},
     "output_type": "execute_result"
    }
   ],
   "source": [
    "pyLDAvis.enable_notebook()\n",
    "vis = pyLDAvis.gensim.prepare(model, corpus, dictionary=dictionary)\n",
    "vis"
   ]
  },
  {
   "cell_type": "markdown",
   "metadata": {},
   "source": [
    "### Assign Topic Model Numbers to original Data Frame as Column"
   ]
  },
  {
   "cell_type": "code",
   "execution_count": 32,
   "metadata": {},
   "outputs": [],
   "source": [
    "# Assigns the topics to the documents in corpus\n",
    "lda_corpus = model[corpus]"
   ]
  },
  {
   "cell_type": "code",
   "execution_count": 41,
   "metadata": {},
   "outputs": [],
   "source": [
    "mappings = {4:\"ploitics\", 2: \"game\", 0: \"mobile tech\", 1: \"isp\", 3: \"piracy\"}"
   ]
  },
  {
   "cell_type": "code",
   "execution_count": 33,
   "metadata": {},
   "outputs": [],
   "source": [
    "topics = []\n",
    "\n",
    "for doc in lda_corpus:\n",
    "    temp_id = []\n",
    "    temp_score = []\n",
    "    for doc_tuple in doc:\n",
    "        temp_id.append(doc_tuple[0])\n",
    "        temp_score.append(doc_tuple[1])\n",
    "    index = np.argmax(temp_score)\n",
    "    topics.append(temp_id[index])"
   ]
  },
  {
   "cell_type": "code",
   "execution_count": 34,
   "metadata": {},
   "outputs": [],
   "source": [
    "docs[\"Topic_num\"] = topics"
   ]
  },
  {
   "cell_type": "code",
   "execution_count": null,
   "metadata": {},
   "outputs": [],
   "source": [
    "docs.tail(n= 40)"
   ]
  },
  {
   "cell_type": "code",
   "execution_count": 38,
   "metadata": {},
   "outputs": [
    {
     "data": {
      "text/plain": [
       "Index(['Category', 'Heading', 'Article', 'Topic_num'], dtype='object')"
      ]
     },
     "execution_count": 38,
     "metadata": {},
     "output_type": "execute_result"
    }
   ],
   "source": [
    "docs.columns"
   ]
  },
  {
   "cell_type": "code",
   "execution_count": 42,
   "metadata": {},
   "outputs": [],
   "source": [
    "docs[\"new_label\"] = docs[\"Topic_num\"].apply(lambda x: mappings[x])"
   ]
  },
  {
   "cell_type": "code",
   "execution_count": 45,
   "metadata": {},
   "outputs": [
    {
     "data": {
      "text/html": [
       "<div>\n",
       "<style scoped>\n",
       "    .dataframe tbody tr th:only-of-type {\n",
       "        vertical-align: middle;\n",
       "    }\n",
       "\n",
       "    .dataframe tbody tr th {\n",
       "        vertical-align: top;\n",
       "    }\n",
       "\n",
       "    .dataframe thead th {\n",
       "        text-align: right;\n",
       "    }\n",
       "</style>\n",
       "<table border=\"1\" class=\"dataframe\">\n",
       "  <thead>\n",
       "    <tr style=\"text-align: right;\">\n",
       "      <th></th>\n",
       "      <th>Category</th>\n",
       "      <th>Heading</th>\n",
       "      <th>Article</th>\n",
       "      <th>Topic_num</th>\n",
       "      <th>new_label</th>\n",
       "    </tr>\n",
       "  </thead>\n",
       "  <tbody>\n",
       "    <tr>\n",
       "      <th>2205</th>\n",
       "      <td>tech</td>\n",
       "      <td>Cheaper chip for mobiles</td>\n",
       "      <td>A mobile phone chip which combines a modem an...</td>\n",
       "      <td>0</td>\n",
       "      <td>mobile tech</td>\n",
       "    </tr>\n",
       "    <tr>\n",
       "      <th>2206</th>\n",
       "      <td>tech</td>\n",
       "      <td>Progress on new internet domains</td>\n",
       "      <td>By early 2005 the net could have two new doma...</td>\n",
       "      <td>1</td>\n",
       "      <td>isp</td>\n",
       "    </tr>\n",
       "    <tr>\n",
       "      <th>2207</th>\n",
       "      <td>tech</td>\n",
       "      <td>Slim PlayStation triples sales</td>\n",
       "      <td>Sony PlayStation 2's slimmer shape has proved...</td>\n",
       "      <td>2</td>\n",
       "      <td>game</td>\n",
       "    </tr>\n",
       "    <tr>\n",
       "      <th>2208</th>\n",
       "      <td>tech</td>\n",
       "      <td>Loyalty cards idea for TV addicts</td>\n",
       "      <td>Viewers could soon be rewarded for watching T...</td>\n",
       "      <td>1</td>\n",
       "      <td>isp</td>\n",
       "    </tr>\n",
       "    <tr>\n",
       "      <th>2209</th>\n",
       "      <td>tech</td>\n",
       "      <td>Apple iPod family expands market</td>\n",
       "      <td>Apple has expanded its iPod family with the r...</td>\n",
       "      <td>0</td>\n",
       "      <td>mobile tech</td>\n",
       "    </tr>\n",
       "    <tr>\n",
       "      <th>2210</th>\n",
       "      <td>tech</td>\n",
       "      <td>DVD copy protection strengthened</td>\n",
       "      <td>DVDs will be harder to copy thanks to new ant...</td>\n",
       "      <td>0</td>\n",
       "      <td>mobile tech</td>\n",
       "    </tr>\n",
       "    <tr>\n",
       "      <th>2211</th>\n",
       "      <td>tech</td>\n",
       "      <td>Millions buy MP3 players in US</td>\n",
       "      <td>One in 10 adult Americans - equivalent to 22 ...</td>\n",
       "      <td>1</td>\n",
       "      <td>isp</td>\n",
       "    </tr>\n",
       "    <tr>\n",
       "      <th>2212</th>\n",
       "      <td>tech</td>\n",
       "      <td>US woman sues over ink cartridges</td>\n",
       "      <td>A US woman is suing Hewlett Packard (HP), say...</td>\n",
       "      <td>4</td>\n",
       "      <td>ploitics</td>\n",
       "    </tr>\n",
       "    <tr>\n",
       "      <th>2213</th>\n",
       "      <td>tech</td>\n",
       "      <td>The Force is strong in Battlefront</td>\n",
       "      <td>The warm reception that has greeted Star Wars...</td>\n",
       "      <td>2</td>\n",
       "      <td>game</td>\n",
       "    </tr>\n",
       "    <tr>\n",
       "      <th>2214</th>\n",
       "      <td>tech</td>\n",
       "      <td>Seamen sail into biometric future</td>\n",
       "      <td>The luxury cruise liner Crystal Harmony, curr...</td>\n",
       "      <td>1</td>\n",
       "      <td>isp</td>\n",
       "    </tr>\n",
       "    <tr>\n",
       "      <th>2215</th>\n",
       "      <td>tech</td>\n",
       "      <td>Argonaut founder rebuilds empire</td>\n",
       "      <td>Jez San, the man behind the Argonaut games gr...</td>\n",
       "      <td>4</td>\n",
       "      <td>ploitics</td>\n",
       "    </tr>\n",
       "    <tr>\n",
       "      <th>2216</th>\n",
       "      <td>tech</td>\n",
       "      <td>Blind student 'hears in colour'</td>\n",
       "      <td>A blind student has developed software that t...</td>\n",
       "      <td>3</td>\n",
       "      <td>piracy</td>\n",
       "    </tr>\n",
       "    <tr>\n",
       "      <th>2217</th>\n",
       "      <td>tech</td>\n",
       "      <td>Sony PSP tipped as a 'must-have'</td>\n",
       "      <td>Sony's Playstation Portable is the top gadget...</td>\n",
       "      <td>0</td>\n",
       "      <td>mobile tech</td>\n",
       "    </tr>\n",
       "    <tr>\n",
       "      <th>2218</th>\n",
       "      <td>tech</td>\n",
       "      <td>Software watching while you work</td>\n",
       "      <td>Software that can not only monitor every keys...</td>\n",
       "      <td>0</td>\n",
       "      <td>mobile tech</td>\n",
       "    </tr>\n",
       "    <tr>\n",
       "      <th>2219</th>\n",
       "      <td>tech</td>\n",
       "      <td>Norway upholds 'Napster' ruling</td>\n",
       "      <td>A Norwegian student who ran a website which l...</td>\n",
       "      <td>3</td>\n",
       "      <td>piracy</td>\n",
       "    </tr>\n",
       "    <tr>\n",
       "      <th>2220</th>\n",
       "      <td>tech</td>\n",
       "      <td>Warning over Windows Word files</td>\n",
       "      <td>Writing a Microsoft Word document can be a da...</td>\n",
       "      <td>1</td>\n",
       "      <td>isp</td>\n",
       "    </tr>\n",
       "    <tr>\n",
       "      <th>2221</th>\n",
       "      <td>tech</td>\n",
       "      <td>Fast lifts rise into record books</td>\n",
       "      <td>Two high-speed lifts at the world's tallest b...</td>\n",
       "      <td>0</td>\n",
       "      <td>mobile tech</td>\n",
       "    </tr>\n",
       "    <tr>\n",
       "      <th>2222</th>\n",
       "      <td>tech</td>\n",
       "      <td>Nintendo adds media playing to DS</td>\n",
       "      <td>Nintendo is releasing an adapter for its DS h...</td>\n",
       "      <td>0</td>\n",
       "      <td>mobile tech</td>\n",
       "    </tr>\n",
       "    <tr>\n",
       "      <th>2223</th>\n",
       "      <td>tech</td>\n",
       "      <td>Fast moving phone viruses appear</td>\n",
       "      <td>Security firms are warning about several mobi...</td>\n",
       "      <td>0</td>\n",
       "      <td>mobile tech</td>\n",
       "    </tr>\n",
       "    <tr>\n",
       "      <th>2224</th>\n",
       "      <td>tech</td>\n",
       "      <td>Hacker threat to Apple's iTunes</td>\n",
       "      <td>Users of Apple's music jukebox iTunes need to...</td>\n",
       "      <td>0</td>\n",
       "      <td>mobile tech</td>\n",
       "    </tr>\n",
       "  </tbody>\n",
       "</table>\n",
       "</div>"
      ],
      "text/plain": [
       "     Category                             Heading  \\\n",
       "2205     tech            Cheaper chip for mobiles   \n",
       "2206     tech    Progress on new internet domains   \n",
       "2207     tech      Slim PlayStation triples sales   \n",
       "2208     tech   Loyalty cards idea for TV addicts   \n",
       "2209     tech    Apple iPod family expands market   \n",
       "2210     tech    DVD copy protection strengthened   \n",
       "2211     tech      Millions buy MP3 players in US   \n",
       "2212     tech   US woman sues over ink cartridges   \n",
       "2213     tech  The Force is strong in Battlefront   \n",
       "2214     tech   Seamen sail into biometric future   \n",
       "2215     tech    Argonaut founder rebuilds empire   \n",
       "2216     tech     Blind student 'hears in colour'   \n",
       "2217     tech    Sony PSP tipped as a 'must-have'   \n",
       "2218     tech    Software watching while you work   \n",
       "2219     tech     Norway upholds 'Napster' ruling   \n",
       "2220     tech     Warning over Windows Word files   \n",
       "2221     tech   Fast lifts rise into record books   \n",
       "2222     tech   Nintendo adds media playing to DS   \n",
       "2223     tech    Fast moving phone viruses appear   \n",
       "2224     tech     Hacker threat to Apple's iTunes   \n",
       "\n",
       "                                                Article  Topic_num  \\\n",
       "2205   A mobile phone chip which combines a modem an...          0   \n",
       "2206   By early 2005 the net could have two new doma...          1   \n",
       "2207   Sony PlayStation 2's slimmer shape has proved...          2   \n",
       "2208   Viewers could soon be rewarded for watching T...          1   \n",
       "2209   Apple has expanded its iPod family with the r...          0   \n",
       "2210   DVDs will be harder to copy thanks to new ant...          0   \n",
       "2211   One in 10 adult Americans - equivalent to 22 ...          1   \n",
       "2212   A US woman is suing Hewlett Packard (HP), say...          4   \n",
       "2213   The warm reception that has greeted Star Wars...          2   \n",
       "2214   The luxury cruise liner Crystal Harmony, curr...          1   \n",
       "2215   Jez San, the man behind the Argonaut games gr...          4   \n",
       "2216   A blind student has developed software that t...          3   \n",
       "2217   Sony's Playstation Portable is the top gadget...          0   \n",
       "2218   Software that can not only monitor every keys...          0   \n",
       "2219   A Norwegian student who ran a website which l...          3   \n",
       "2220   Writing a Microsoft Word document can be a da...          1   \n",
       "2221   Two high-speed lifts at the world's tallest b...          0   \n",
       "2222   Nintendo is releasing an adapter for its DS h...          0   \n",
       "2223   Security firms are warning about several mobi...          0   \n",
       "2224   Users of Apple's music jukebox iTunes need to...          0   \n",
       "\n",
       "        new_label  \n",
       "2205  mobile tech  \n",
       "2206          isp  \n",
       "2207         game  \n",
       "2208          isp  \n",
       "2209  mobile tech  \n",
       "2210  mobile tech  \n",
       "2211          isp  \n",
       "2212     ploitics  \n",
       "2213         game  \n",
       "2214          isp  \n",
       "2215     ploitics  \n",
       "2216       piracy  \n",
       "2217  mobile tech  \n",
       "2218  mobile tech  \n",
       "2219       piracy  \n",
       "2220          isp  \n",
       "2221  mobile tech  \n",
       "2222  mobile tech  \n",
       "2223  mobile tech  \n",
       "2224  mobile tech  "
      ]
     },
     "execution_count": 45,
     "metadata": {},
     "output_type": "execute_result"
    }
   ],
   "source": [
    "docs.tail(n=20)"
   ]
  },
  {
   "cell_type": "code",
   "execution_count": null,
   "metadata": {},
   "outputs": [],
   "source": []
  }
 ],
 "metadata": {
  "kernelspec": {
   "display_name": "Python 3",
   "language": "python",
   "name": "python3"
  },
  "language_info": {
   "codemirror_mode": {
    "name": "ipython",
    "version": 3
   },
   "file_extension": ".py",
   "mimetype": "text/x-python",
   "name": "python",
   "nbconvert_exporter": "python",
   "pygments_lexer": "ipython3",
   "version": "3.8.3"
  }
 },
 "nbformat": 4,
 "nbformat_minor": 4
}
